{
 "cells": [
  {
   "cell_type": "code",
   "execution_count": 1,
   "metadata": {},
   "outputs": [],
   "source": [
    "from selenium import webdriver\n",
    "from selenium.webdriver.common.by import By\n",
    "from selenium.webdriver.support.ui import WebDriverWait\n",
    "from selenium.webdriver.support import expected_conditions as EC\n",
    "from selenium.common.exceptions import TimeoutException, UnexpectedAlertPresentException, NoAlertPresentException"
   ]
  },
  {
   "cell_type": "code",
   "execution_count": 2,
   "metadata": {},
   "outputs": [],
   "source": [
    "wd = webdriver.Chrome()"
   ]
  },
  {
   "cell_type": "code",
   "execution_count": 3,
   "metadata": {},
   "outputs": [],
   "source": [
    "wd.get('http://www.library.tufts.edu/ezproxy/ezproxy.asp?LOCATION=RsrcRcrdFactiva')"
   ]
  },
  {
   "cell_type": "code",
   "execution_count": 4,
   "metadata": {},
   "outputs": [],
   "source": [
    "switch_factiva = WebDriverWait(wd, 10).until(\n",
    "    EC.presence_of_element_located((By.CLASS_NAME, 'nf-toggle-switch'))\n",
    ")"
   ]
  },
  {
   "cell_type": "code",
   "execution_count": 5,
   "metadata": {},
   "outputs": [],
   "source": [
    "switch_factiva.click()"
   ]
  },
  {
   "cell_type": "code",
   "execution_count": 6,
   "metadata": {},
   "outputs": [],
   "source": [
    "query = \"\"\"\n",
    "Hepatitis C not (\"Hepatitis C Times Newspapers Ltd\" or \"Hepatitis C The Financial Times Limited\") and (rst=st or rst=sundti or rst=t or rst=timeuk or rst=dt or rst=stel or rst=TELUK or rst=ob or rst=IND or rst=INDOP or rst=INDOS or rst=IIND or rst=grdn or rst=GRULTD or rst=ftft or rst=ftcom or rst=thesun or rst=thesuk or rst=daim or rst=mosm or rst=damonl or rst=theexp or rst=thexsu or rst=exco or rst=dmirr or rst=smirr or rst=miruk or rst=POPL or rst=daista or rst=dsun or rst=daico or rst=ns or rst=nsonl or rst=metro)\n",
    "\"\"\".strip()"
   ]
  },
  {
   "cell_type": "code",
   "execution_count": 7,
   "metadata": {},
   "outputs": [],
   "source": [
    "wd.find_element(By.CLASS_NAME, \"css-wiv1jh\").send_keys(query + '\\n')"
   ]
  },
  {
   "cell_type": "code",
   "execution_count": 10,
   "metadata": {},
   "outputs": [],
   "source": [
    "year_of_first_result_on_page = WebDriverWait(wd, 15).until(\n",
    "    EC.presence_of_element_located((By.CLASS_NAME, 'css-1tryk67'))\n",
    ").text"
   ]
  },
  {
   "cell_type": "code",
   "execution_count": 11,
   "metadata": {},
   "outputs": [
    {
     "data": {
      "text/plain": [
       "'24 February 1982'"
      ]
     },
     "execution_count": 11,
     "metadata": {},
     "output_type": "execute_result"
    }
   ],
   "source": [
    "year_of_first_result_on_page"
   ]
  },
  {
   "cell_type": "code",
   "execution_count": null,
   "metadata": {},
   "outputs": [],
   "source": []
  },
  {
   "cell_type": "code",
   "execution_count": 8,
   "metadata": {},
   "outputs": [],
   "source": [
    "# get all dates\n",
    "wd.find_elements(By.CLASS_NAME, \"css-1dbgxjr\")[-1].click()"
   ]
  },
  {
   "cell_type": "code",
   "execution_count": 9,
   "metadata": {},
   "outputs": [],
   "source": [
    "wd.find_elements(By.CLASS_NAME, \"css-157mval\")[-1].click()"
   ]
  },
  {
   "cell_type": "code",
   "execution_count": 10,
   "metadata": {},
   "outputs": [],
   "source": [
    "y = \"2020\"\n",
    "m = \"August\"\n",
    "d = \"1\""
   ]
  },
  {
   "cell_type": "code",
   "execution_count": 11,
   "metadata": {},
   "outputs": [],
   "source": [
    "date_selects = WebDriverWait(wd, 10).until(\n",
    "    EC.presence_of_all_elements_located((By.CLASS_NAME, 'css-idt3y3'))\n",
    ")"
   ]
  },
  {
   "cell_type": "code",
   "execution_count": 12,
   "metadata": {},
   "outputs": [],
   "source": [
    "date_selects[0].send_keys(y)"
   ]
  },
  {
   "cell_type": "code",
   "execution_count": 13,
   "metadata": {},
   "outputs": [],
   "source": [
    "date_selects[1].send_keys(m[:3])"
   ]
  },
  {
   "cell_type": "code",
   "execution_count": 14,
   "metadata": {},
   "outputs": [
    {
     "name": "stdout",
     "output_type": "stream",
     "text": [
      "-14\n"
     ]
    }
   ],
   "source": [
    "existing_day = WebDriverWait(wd, 10).until(\n",
    "    EC.presence_of_all_elements_located((By.CLASS_NAME, 'css-1s3sgzy'))\n",
    ")[2]\n",
    "given_minus_existing = int(d) - int(existing_day.text)\n",
    "if given_minus_existing > 0:\n",
    "    print(given_minus_existing)\n",
    "else:\n",
    "    print(given_minus_existing)"
   ]
  },
  {
   "cell_type": "code",
   "execution_count": 15,
   "metadata": {},
   "outputs": [],
   "source": [
    "date_selects[2].send_keys(\"01\")"
   ]
  },
  {
   "cell_type": "code",
   "execution_count": 16,
   "metadata": {},
   "outputs": [],
   "source": [
    "#    css-rnn67r\n",
    "done_button = WebDriverWait(wd, 10).until(\n",
    "    EC.presence_of_element_located((By.CLASS_NAME, 'css-rnn67r'))\n",
    ")\n",
    "done_button.click()"
   ]
  },
  {
   "cell_type": "code",
   "execution_count": 10,
   "metadata": {},
   "outputs": [],
   "source": [
    "wd.find_elements(By.CLASS_NAME, \"css-157mval\")[-2].click()"
   ]
  },
  {
   "cell_type": "code",
   "execution_count": 11,
   "metadata": {},
   "outputs": [],
   "source": [
    "# change to oldest first\n",
    "wd.find_elements(By.CLASS_NAME, \"css-1dbgxjr\")[0].click()"
   ]
  },
  {
   "cell_type": "code",
   "execution_count": 12,
   "metadata": {},
   "outputs": [],
   "source": [
    "wd.find_elements(By.CLASS_NAME, \"css-157mval\")[-1].click()"
   ]
  },
  {
   "cell_type": "code",
   "execution_count": 13,
   "metadata": {},
   "outputs": [
    {
     "data": {
      "text/plain": [
       "20"
      ]
     },
     "execution_count": 13,
     "metadata": {},
     "output_type": "execute_result"
    }
   ],
   "source": [
    "# get articles\n",
    "page_results = wd.find_elements(By.CLASS_NAME, \"css-xtyr4m\")\n",
    "len(page_results)"
   ]
  },
  {
   "cell_type": "code",
   "execution_count": 14,
   "metadata": {},
   "outputs": [],
   "source": [
    "page_results[0].click()"
   ]
  },
  {
   "cell_type": "code",
   "execution_count": 15,
   "metadata": {},
   "outputs": [
    {
     "data": {
      "text/plain": [
       "'Technology: Antigen diagnostic kit for hepatitis - The first biotechnology products are set for the market DAVID FISHLOCK reports'"
      ]
     },
     "execution_count": 15,
     "metadata": {},
     "output_type": "execute_result"
    }
   ],
   "source": [
    "from bs4 import BeautifulSoup\n",
    "\n",
    "soup = BeautifulSoup(wd.find_element(By.TAG_NAME, \"article\").get_attribute(\"innerHTML\"), 'html.parser')\n",
    "soup.h1.get_text()"
   ]
  },
  {
   "cell_type": "code",
   "execution_count": 16,
   "metadata": {},
   "outputs": [
    {
     "data": {
      "text/plain": [
       "' By DAVID FISHLOCK;  Financial Times, 24 February 1982, 910 words, English'"
      ]
     },
     "execution_count": 16,
     "metadata": {},
     "output_type": "execute_result"
    }
   ],
   "source": [
    "soup.find('div', class_=\"styled-wrappers__ExternalControlWrapper-sc-15q75tq-1 enwsIg\").get_text()"
   ]
  },
  {
   "cell_type": "code",
   "execution_count": 17,
   "metadata": {},
   "outputs": [
    {
     "data": {
      "text/plain": [
       "\"Biogen, the biotechnology research company, expects its first genetically engineered product to reach the market next year. It will be a spin-off from a bigger project designed to develop genetically engineered vaccines against hepatitis in both man and animals.The first product will be a diagnostic kit for the rapid diagnosis of the disease without need for elaborate analytical tools or skills. The kit is to be based on an antigen developed by recombinant DNA technique initiated at Heidelburg University, then developed by Biogen's Geneva laboratories under the guidance of Professor Ken Murray of Edinburgh University.Four yearsBiogen will be supplying the antigen from a 'production' fermenter of 300 litres capacity, to its licencee, the Japanese pharmaceutical group Green Cross, to incorporate in its kit.According to Dr Walter Gilbert, Biogen's Nobel prizewinning chairman, sales of the kit are likely to total only hundreds of thousands of dollars. But he sees it as a spin-off from Biogen's efforts to penetrate a much bigger market, for hopatitis vaccines.The diagnostic kit will require only a 'review' by the licencing authorities whereas vaccines will demand a much lengthier assessment for safety. Japan, where the incidence of the disease is much higher than in the west, is likely to be the first market. Dr Gilbert believes that the human vaccine for hepatitis B is probably four years away from the marketplace in the West, given the regulatory hurdles still to be overcome. It has a vaccine at the stage of animal testing but no conclusive results to report yet. One problem, he says, is to learn what additional reagents are needed to make a new drug into an effective vaccine, and to determine the dose.'We have shown we can make it, but not yet shown that it is protective,' Professor Murray admits.Progress towards an immobilised, heat-resisting (thermophilic) micro-organism made by genetic engineering, capable of producing ethanol (ethyl alcohol) at the rate of 200 grams per litre per hour from a continuously flowing brew of glucose at 80 degrees C was reported to the Energy Technology Conference in Washington DC this month.According to Dr J. Leslie Glick, president of Genex, the Rockwell, Maryland, biotechnology research company, 'once the thermophile is 'engineered' it will be used in a continuous fermentation process.' Alcohol would be constantly removed by distillation at atmospheric pressure. Other major fermentation products would be eliminated, Dr Glick claims.Genex estimates that its process will cut total manufacturing cost of making ethanol by fermentation - for example, as a petrol additive to produce gasohol - by 11 per cent. If the costs of the raw materials and the wet-milling of corn (maize) - both required regardless of the fermentation technology used - are dropped from the equation, Genex believes that its process will be 41 per cent cheaper to instal and operate than present-day processes.Rothchilds reports that it has not been easy to find new ventures in biotechnology that match up to the standards set for Biotechnology Investments, its Guernsey-based fund, started last spring.The fund - the only one it claims, devoted to biotechnology - has invested less than one-quarter of the US Dollars 47.8m subscribed, mostly in well-established quoted biochemical securities such as the Scandinavian groups, Cardo, Fortia and Novo. An interim report from the fund warns that assets will not be fully invested 'for some time.'Unquoted investments - the purpose of the fund - total only four, all American, with a fifth soon to be disclosed. Rothschilds reports having investigated 61 proposals from unquoted biotechnology companies, including 51 in the US, nine in Britain and one in Australia. It has rejected 45 but still has 12 under review, two of which may yet prove to be suitable investments.* The Financial Times has reprinted the series of 12 articles on biotechnology published on the Technology Page last autumn. It is now available as a booklet called Biotechnology, from Bracken House, 10 Cannon Street, London, EC4P 4BY, price Pounds 2.50.* From Nature comes the Directory of Biologicals 1982, said to be the 'first comprehensive guide to biological products available on the market world-wide.' An international scientific team of 25 has helped pull together the 191-page catalogue of nearly 2,000 'living reagents.' The directory also contains valuable advice on the hazards of such agents. Available from Nature, 4, Little Essex Street, London, WC2R 3LF, price Pounds 22.50 (US Dollars 45).* The Biochemists' Songbook by Professor Harold Baum of Chelsea College, London, reprints a collection of songs written to entertain fellow-scientists at parties. Sample (to be sung to the tune The Red Flag):The substrate changed, by an enzyme Initially, in unit time Varies (if not in excess), With substrate concentration, (S).Or, if that sounds a trifle esoteric, how about:Mine eyes have seen the glory of respiratory chains. In every mitochondrion, intrinsic to membranes . . .Available from Pergamon Press, pp 62, Pounds 2.45.* London Polytechnic has organised a two-day conference on Biotechnology: the financial implications, 23-24 March. Details from Rosemary Royds, 01 283 1030 X 324.* A seminar called Biotechnology developments - implications for process plant manufacturers has been organised jointly by the Process Plant Association and the CBI, on March 31. More details from Harry Glover, Process Plant Association, 01-839 4861. \""
      ]
     },
     "execution_count": 17,
     "metadata": {},
     "output_type": "execute_result"
    }
   ],
   "source": [
    "soup.find('div', class_=\"body-paragraph__BodyParagraphWrapper-sc-1c0tve-0 gByVbi\").get_text()"
   ]
  },
  {
   "cell_type": "code",
   "execution_count": 18,
   "metadata": {},
   "outputs": [],
   "source": [
    "wd.find_element(By.ID, \"articleBackButton\").click()"
   ]
  },
  {
   "cell_type": "code",
   "execution_count": 19,
   "metadata": {},
   "outputs": [],
   "source": [
    "# next page\n",
    "wd.execute_script(\"window.scrollTo(0, document.body.scrollHeight);\")"
   ]
  },
  {
   "cell_type": "code",
   "execution_count": 20,
   "metadata": {},
   "outputs": [],
   "source": [
    "wd.find_element(By.CLASS_NAME, \"css-1oqu26d\").click()"
   ]
  },
  {
   "cell_type": "code",
   "execution_count": 24,
   "metadata": {},
   "outputs": [
    {
     "data": {
      "text/plain": [
       "'624'"
      ]
     },
     "execution_count": 24,
     "metadata": {},
     "output_type": "execute_result"
    }
   ],
   "source": [
    "wd.find_element(By.CLASS_NAME, \"css-lakely\").text.split()[-1]"
   ]
  },
  {
   "cell_type": "code",
   "execution_count": null,
   "metadata": {},
   "outputs": [],
   "source": []
  },
  {
   "cell_type": "code",
   "execution_count": 2,
   "metadata": {},
   "outputs": [
    {
     "data": {
      "text/plain": [
       "4112"
      ]
     },
     "execution_count": 2,
     "metadata": {},
     "output_type": "execute_result"
    }
   ],
   "source": [
    "import pandas as pd\n",
    "\n",
    "df = pd.read_csv('hepatitis_c_articles.csv')\n",
    "len(df)"
   ]
  },
  {
   "cell_type": "code",
   "execution_count": 14,
   "metadata": {},
   "outputs": [],
   "source": [
    "import os\n",
    "\n",
    "df = pd.concat([pd.read_csv('factiva_data/hepc/'+f) for f in os.listdir('factiva_data/hepc')]+[pd.read_csv('hepatitis_c_articles.csv')]).drop_duplicates().reset_index(drop=True)"
   ]
  },
  {
   "cell_type": "code",
   "execution_count": 15,
   "metadata": {},
   "outputs": [
    {
     "data": {
      "text/plain": [
       "9446"
      ]
     },
     "execution_count": 15,
     "metadata": {},
     "output_type": "execute_result"
    }
   ],
   "source": [
    "len(df)"
   ]
  },
  {
   "cell_type": "code",
   "execution_count": 16,
   "metadata": {},
   "outputs": [],
   "source": [
    "df.to_csv(\"hepc_factiva_0716.csv\")"
   ]
  },
  {
   "cell_type": "code",
   "execution_count": 17,
   "metadata": {},
   "outputs": [
    {
     "data": {
      "text/html": [
       "<div>\n",
       "<style scoped>\n",
       "    .dataframe tbody tr th:only-of-type {\n",
       "        vertical-align: middle;\n",
       "    }\n",
       "\n",
       "    .dataframe tbody tr th {\n",
       "        vertical-align: top;\n",
       "    }\n",
       "\n",
       "    .dataframe thead th {\n",
       "        text-align: right;\n",
       "    }\n",
       "</style>\n",
       "<table border=\"1\" class=\"dataframe\">\n",
       "  <thead>\n",
       "    <tr style=\"text-align: right;\">\n",
       "      <th></th>\n",
       "      <th>Title</th>\n",
       "      <th>Byline</th>\n",
       "      <th>Text</th>\n",
       "    </tr>\n",
       "  </thead>\n",
       "  <tbody>\n",
       "    <tr>\n",
       "      <th>0</th>\n",
       "      <td>Technology: Antigen diagnostic kit for hepatit...</td>\n",
       "      <td>By DAVID FISHLOCK;  Financial Times, 24 Febru...</td>\n",
       "      <td>Biogen, the biotechnology research company, ex...</td>\n",
       "    </tr>\n",
       "    <tr>\n",
       "      <th>1</th>\n",
       "      <td>International Companies: Technology - Pounds 2...</td>\n",
       "      <td>By DAVID FISHLOCK, SCIENCE EDITOR;  Financial...</td>\n",
       "      <td>BRITAIN'S biotechnologists are to have a new P...</td>\n",
       "    </tr>\n",
       "    <tr>\n",
       "      <th>2</th>\n",
       "      <td>Financial Times Survey: China - Business - Gro...</td>\n",
       "      <td>Financial Times, 29 October 1984, 1,411 words,...</td>\n",
       "      <td>CLIMATENorth China (including Beijing) - Winte...</td>\n",
       "    </tr>\n",
       "    <tr>\n",
       "      <th>3</th>\n",
       "      <td>The human face of science / Profile of Dr June...</td>\n",
       "      <td>By THOMSON PRENTICE  The Times, 1 July 1985, ...</td>\n",
       "      <td>Dr. June Goodfield has great faith in people's...</td>\n",
       "    </tr>\n",
       "    <tr>\n",
       "      <th>4</th>\n",
       "      <td>Travel: How to stay healthy on your summer bre...</td>\n",
       "      <td>By ISABEL WALKER  The Times, 6 July 1985, 1,1...</td>\n",
       "      <td>Holidays are one of the 30 most stressful even...</td>\n",
       "    </tr>\n",
       "    <tr>\n",
       "      <th>...</th>\n",
       "      <td>...</td>\n",
       "      <td>...</td>\n",
       "      <td>...</td>\n",
       "    </tr>\n",
       "    <tr>\n",
       "      <th>9441</th>\n",
       "      <td>'Laughing' man who hurled petrol bombs out of ...</td>\n",
       "      <td>Michael Curzon,Paul Withers,Liam Doyle  expre...</td>\n",
       "      <td>The man reportedly killed himself after throwi...</td>\n",
       "    </tr>\n",
       "    <tr>\n",
       "      <th>9442</th>\n",
       "      <td>Tribunal on Ireland’s infected blood scandal l...</td>\n",
       "      <td>David Young  Evening Standard Online, 8 Novem...</td>\n",
       "      <td>The UK inquiry heard from an expert on how the...</td>\n",
       "    </tr>\n",
       "    <tr>\n",
       "      <th>9443</th>\n",
       "      <td>Deadly silencing of the free press</td>\n",
       "      <td>MARK HOOKHAM  Mail on Sunday, 27 November 202...</td>\n",
       "      <td>The Mail on Sunday was pilloried as 'alarmist'...</td>\n",
       "    </tr>\n",
       "    <tr>\n",
       "      <th>9444</th>\n",
       "      <td>Eradicating Hepatitis C</td>\n",
       "      <td>The Times, 28 December 2022, 588 words, English</td>\n",
       "      <td>An effective programme in the UK is among many...</td>\n",
       "    </tr>\n",
       "    <tr>\n",
       "      <th>9445</th>\n",
       "      <td>TODAY'S EDITION</td>\n",
       "      <td>The Times, 28 December 2022, 341 words, English</td>\n",
       "      <td>NHS to wipe out hepatitis C England is on trac...</td>\n",
       "    </tr>\n",
       "  </tbody>\n",
       "</table>\n",
       "<p>9446 rows × 3 columns</p>\n",
       "</div>"
      ],
      "text/plain": [
       "                                                  Title  \\\n",
       "0     Technology: Antigen diagnostic kit for hepatit...   \n",
       "1     International Companies: Technology - Pounds 2...   \n",
       "2     Financial Times Survey: China - Business - Gro...   \n",
       "3     The human face of science / Profile of Dr June...   \n",
       "4     Travel: How to stay healthy on your summer bre...   \n",
       "...                                                 ...   \n",
       "9441  'Laughing' man who hurled petrol bombs out of ...   \n",
       "9442  Tribunal on Ireland’s infected blood scandal l...   \n",
       "9443                 Deadly silencing of the free press   \n",
       "9444                            Eradicating Hepatitis C   \n",
       "9445                                    TODAY'S EDITION   \n",
       "\n",
       "                                                 Byline  \\\n",
       "0      By DAVID FISHLOCK;  Financial Times, 24 Febru...   \n",
       "1      By DAVID FISHLOCK, SCIENCE EDITOR;  Financial...   \n",
       "2     Financial Times, 29 October 1984, 1,411 words,...   \n",
       "3      By THOMSON PRENTICE  The Times, 1 July 1985, ...   \n",
       "4      By ISABEL WALKER  The Times, 6 July 1985, 1,1...   \n",
       "...                                                 ...   \n",
       "9441   Michael Curzon,Paul Withers,Liam Doyle  expre...   \n",
       "9442   David Young  Evening Standard Online, 8 Novem...   \n",
       "9443   MARK HOOKHAM  Mail on Sunday, 27 November 202...   \n",
       "9444    The Times, 28 December 2022, 588 words, English   \n",
       "9445    The Times, 28 December 2022, 341 words, English   \n",
       "\n",
       "                                                   Text  \n",
       "0     Biogen, the biotechnology research company, ex...  \n",
       "1     BRITAIN'S biotechnologists are to have a new P...  \n",
       "2     CLIMATENorth China (including Beijing) - Winte...  \n",
       "3     Dr. June Goodfield has great faith in people's...  \n",
       "4     Holidays are one of the 30 most stressful even...  \n",
       "...                                                 ...  \n",
       "9441  The man reportedly killed himself after throwi...  \n",
       "9442  The UK inquiry heard from an expert on how the...  \n",
       "9443  The Mail on Sunday was pilloried as 'alarmist'...  \n",
       "9444  An effective programme in the UK is among many...  \n",
       "9445  NHS to wipe out hepatitis C England is on trac...  \n",
       "\n",
       "[9446 rows x 3 columns]"
      ]
     },
     "execution_count": 17,
     "metadata": {},
     "output_type": "execute_result"
    }
   ],
   "source": [
    "df"
   ]
  },
  {
   "cell_type": "code",
   "execution_count": 35,
   "metadata": {},
   "outputs": [],
   "source": [
    "to_export = df[:500]\n",
    "to_export.to_csv(\"hepc_factiva_0716_first500.csv\")"
   ]
  },
  {
   "cell_type": "code",
   "execution_count": 36,
   "metadata": {},
   "outputs": [],
   "source": [
    "from docx import Document\n",
    "\n",
    "doc = Document()\n",
    "p = doc.add_heading('First 500 Hepatitis C Articles', 0)\n",
    "p.bold = True\n",
    "\n",
    "for i, row in to_export.iterrows():\n",
    "    doc.add_heading(row['Title'], level=1)\n",
    "    doc.add_paragraph(row['Byline'])\n",
    "    doc.add_paragraph(row['Text'])\n",
    "    doc.add_page_break()\n",
    "\n",
    "doc.save('hepc_factiva_0716_first500.docx')"
   ]
  },
  {
   "cell_type": "code",
   "execution_count": 74,
   "metadata": {},
   "outputs": [],
   "source": [
    "import pandas as pd\n",
    "import os\n",
    "files = sorted(['factiva_data/aids/'+f for f in os.listdir('factiva_data/aids')])\n",
    "df = pd.concat([pd.read_csv(f) for f in files]).drop_duplicates().reset_index(drop=True)"
   ]
  },
  {
   "cell_type": "code",
   "execution_count": 75,
   "metadata": {},
   "outputs": [
    {
     "data": {
      "text/html": [
       "<div>\n",
       "<style scoped>\n",
       "    .dataframe tbody tr th:only-of-type {\n",
       "        vertical-align: middle;\n",
       "    }\n",
       "\n",
       "    .dataframe tbody tr th {\n",
       "        vertical-align: top;\n",
       "    }\n",
       "\n",
       "    .dataframe thead th {\n",
       "        text-align: right;\n",
       "    }\n",
       "</style>\n",
       "<table border=\"1\" class=\"dataframe\">\n",
       "  <thead>\n",
       "    <tr style=\"text-align: right;\">\n",
       "      <th></th>\n",
       "      <th>Title</th>\n",
       "      <th>Byline</th>\n",
       "      <th>Text</th>\n",
       "    </tr>\n",
       "  </thead>\n",
       "  <tbody>\n",
       "    <tr>\n",
       "      <th>0</th>\n",
       "      <td>Soccer Aid's biggest line-up revealed with pop...</td>\n",
       "      <td>Maz Iqbal  express.co.uk, 19 March 2024, 12:0...</td>\n",
       "      <td>The Soccer Aid 2024 line-up has been announced...</td>\n",
       "    </tr>\n",
       "    <tr>\n",
       "      <th>1</th>\n",
       "      <td>Soccer Aid 2024 line-up in full as Bobby Brazi...</td>\n",
       "      <td>By Daniel Bird  Mirror.co.uk, 19 March 2024, ...</td>\n",
       "      <td>Soccer Aid is back with a huge line-up includi...</td>\n",
       "    </tr>\n",
       "    <tr>\n",
       "      <th>2</th>\n",
       "      <td>Only seven countries meet WHO air quality stan...</td>\n",
       "      <td>Oliver Milman  The Guardian, 19 March 2024, 4...</td>\n",
       "      <td>Almost all countries failing to meet mark for ...</td>\n",
       "    </tr>\n",
       "    <tr>\n",
       "      <th>3</th>\n",
       "      <td>How a daily shot of apple cider vinegar could ...</td>\n",
       "      <td>CHARLOTTE DOVEY  Daily Mail, 19 March 2024, 1...</td>\n",
       "      <td>GOOD HEALTHTHERE'S a definite buzz around appl...</td>\n",
       "    </tr>\n",
       "    <tr>\n",
       "      <th>4</th>\n",
       "      <td>US Kleenex plant contaminated drinking water w...</td>\n",
       "      <td>Tom Perkins  The Guardian, 19 March 2024, 11:...</td>\n",
       "      <td>Lawsuit also alleges ‘forever chemicals’ used ...</td>\n",
       "    </tr>\n",
       "    <tr>\n",
       "      <th>...</th>\n",
       "      <td>...</td>\n",
       "      <td>...</td>\n",
       "      <td>...</td>\n",
       "    </tr>\n",
       "    <tr>\n",
       "      <th>1426</th>\n",
       "      <td>Thousands receive apology after being incorrec...</td>\n",
       "      <td>By Dan Sanderson, Scottish Correspondent  The...</td>\n",
       "      <td>Scottish Government says process was \"complex\"...</td>\n",
       "    </tr>\n",
       "    <tr>\n",
       "      <th>1427</th>\n",
       "      <td>Trump has a strategy for discrediting Dr Fauci...</td>\n",
       "      <td>Andrew Feinberg  Independent Online, 14 July ...</td>\n",
       "      <td>This playbook was originally written for Rober...</td>\n",
       "    </tr>\n",
       "    <tr>\n",
       "      <th>1428</th>\n",
       "      <td>Face masks to be compulsory in shops in Englan...</td>\n",
       "      <td>Lucy Campbell and Matthew Weaver  The Guardia...</td>\n",
       "      <td>Face coverings will be mandatory from 24 July ...</td>\n",
       "    </tr>\n",
       "    <tr>\n",
       "      <th>1429</th>\n",
       "      <td>Sydney hotel cluster rises to 30 – as it happened</td>\n",
       "      <td>Michael McGowan (now) and Calla Wahlquist (ea...</td>\n",
       "      <td>FOLLOW LIVE CORONAVIRUS UPDATES IN WEDNESDAY’S...</td>\n",
       "    </tr>\n",
       "    <tr>\n",
       "      <th>1430</th>\n",
       "      <td>Scientists generate first complete DNA sequenc...</td>\n",
       "      <td>Ryan Morrison For Mailonline  Mail Online, 14...</td>\n",
       "      <td>* Researchers mapped a special type of cell th...</td>\n",
       "    </tr>\n",
       "  </tbody>\n",
       "</table>\n",
       "<p>1431 rows × 3 columns</p>\n",
       "</div>"
      ],
      "text/plain": [
       "                                                  Title  \\\n",
       "0     Soccer Aid's biggest line-up revealed with pop...   \n",
       "1     Soccer Aid 2024 line-up in full as Bobby Brazi...   \n",
       "2     Only seven countries meet WHO air quality stan...   \n",
       "3     How a daily shot of apple cider vinegar could ...   \n",
       "4     US Kleenex plant contaminated drinking water w...   \n",
       "...                                                 ...   \n",
       "1426  Thousands receive apology after being incorrec...   \n",
       "1427  Trump has a strategy for discrediting Dr Fauci...   \n",
       "1428  Face masks to be compulsory in shops in Englan...   \n",
       "1429  Sydney hotel cluster rises to 30 – as it happened   \n",
       "1430  Scientists generate first complete DNA sequenc...   \n",
       "\n",
       "                                                 Byline  \\\n",
       "0      Maz Iqbal  express.co.uk, 19 March 2024, 12:0...   \n",
       "1      By Daniel Bird  Mirror.co.uk, 19 March 2024, ...   \n",
       "2      Oliver Milman  The Guardian, 19 March 2024, 4...   \n",
       "3      CHARLOTTE DOVEY  Daily Mail, 19 March 2024, 1...   \n",
       "4      Tom Perkins  The Guardian, 19 March 2024, 11:...   \n",
       "...                                                 ...   \n",
       "1426   By Dan Sanderson, Scottish Correspondent  The...   \n",
       "1427   Andrew Feinberg  Independent Online, 14 July ...   \n",
       "1428   Lucy Campbell and Matthew Weaver  The Guardia...   \n",
       "1429   Michael McGowan (now) and Calla Wahlquist (ea...   \n",
       "1430   Ryan Morrison For Mailonline  Mail Online, 14...   \n",
       "\n",
       "                                                   Text  \n",
       "0     The Soccer Aid 2024 line-up has been announced...  \n",
       "1     Soccer Aid is back with a huge line-up includi...  \n",
       "2     Almost all countries failing to meet mark for ...  \n",
       "3     GOOD HEALTHTHERE'S a definite buzz around appl...  \n",
       "4     Lawsuit also alleges ‘forever chemicals’ used ...  \n",
       "...                                                 ...  \n",
       "1426  Scottish Government says process was \"complex\"...  \n",
       "1427  This playbook was originally written for Rober...  \n",
       "1428  Face coverings will be mandatory from 24 July ...  \n",
       "1429  FOLLOW LIVE CORONAVIRUS UPDATES IN WEDNESDAY’S...  \n",
       "1430  * Researchers mapped a special type of cell th...  \n",
       "\n",
       "[1431 rows x 3 columns]"
      ]
     },
     "execution_count": 75,
     "metadata": {},
     "output_type": "execute_result"
    }
   ],
   "source": [
    "df"
   ]
  },
  {
   "cell_type": "code",
   "execution_count": 77,
   "metadata": {},
   "outputs": [
    {
     "data": {
      "text/html": [
       "<div>\n",
       "<style scoped>\n",
       "    .dataframe tbody tr th:only-of-type {\n",
       "        vertical-align: middle;\n",
       "    }\n",
       "\n",
       "    .dataframe tbody tr th {\n",
       "        vertical-align: top;\n",
       "    }\n",
       "\n",
       "    .dataframe thead th {\n",
       "        text-align: right;\n",
       "    }\n",
       "</style>\n",
       "<table border=\"1\" class=\"dataframe\">\n",
       "  <thead>\n",
       "    <tr style=\"text-align: right;\">\n",
       "      <th></th>\n",
       "      <th>Unnamed: 0</th>\n",
       "      <th>Title</th>\n",
       "      <th>Byline</th>\n",
       "      <th>Text</th>\n",
       "    </tr>\n",
       "  </thead>\n",
       "  <tbody>\n",
       "    <tr>\n",
       "      <th>0</th>\n",
       "      <td>0</td>\n",
       "      <td>Opportunities to cut killer diseases toll / Br...</td>\n",
       "      <td>By THOMSON PRENTICE, Science Correspondent  T...</td>\n",
       "      <td>Plans that could lead to reducing the death to...</td>\n",
       "    </tr>\n",
       "    <tr>\n",
       "      <th>1</th>\n",
       "      <td>1</td>\n",
       "      <td>Spectrum: Waging war on heart disease (1528)</td>\n",
       "      <td>By THOMSON PRENTICE  The Times, 27 August 198...</td>\n",
       "      <td>It was only when two army padres had come to h...</td>\n",
       "    </tr>\n",
       "    <tr>\n",
       "      <th>2</th>\n",
       "      <td>2</td>\n",
       "      <td>Workplace Cancer Risks 'Reduced To Minimum' / ...</td>\n",
       "      <td>By DAVID FISHLOCK  Financial Times, 28 August...</td>\n",
       "      <td>Most cancer hazards in the workplace have been...</td>\n",
       "    </tr>\n",
       "    <tr>\n",
       "      <th>3</th>\n",
       "      <td>3</td>\n",
       "      <td>British Association: Detention of Aids patient...</td>\n",
       "      <td>The Times, 28 August 1985, 415 words, English</td>\n",
       "      <td>Compulsory powers to detain Aids patients in h...</td>\n",
       "    </tr>\n",
       "    <tr>\n",
       "      <th>4</th>\n",
       "      <td>4</td>\n",
       "      <td>Spectrum: Why our trees are dying (600)</td>\n",
       "      <td>By BOB SMYTH  The Times, 28 August 1985, 713 ...</td>\n",
       "      <td>Town trees throughout Britain are suffering se...</td>\n",
       "    </tr>\n",
       "    <tr>\n",
       "      <th>...</th>\n",
       "      <td>...</td>\n",
       "      <td>...</td>\n",
       "      <td>...</td>\n",
       "      <td>...</td>\n",
       "    </tr>\n",
       "    <tr>\n",
       "      <th>85379</th>\n",
       "      <td>85379</td>\n",
       "      <td>Oprah, 70, vehemently DEFENDS her Ozempic use ...</td>\n",
       "      <td>Kelsi Karruli For Dailymail.Com  Mail Online,...</td>\n",
       "      <td>* The 70-year-old icon revealed she was no lon...</td>\n",
       "    </tr>\n",
       "    <tr>\n",
       "      <th>85380</th>\n",
       "      <td>85380</td>\n",
       "      <td>Biden told Netanyahu it would be a 'mistake' t...</td>\n",
       "      <td>Emily Goodin, Senior U.S. Political Reporter ...</td>\n",
       "      <td>* White House National Security Adviser Jake S...</td>\n",
       "    </tr>\n",
       "    <tr>\n",
       "      <th>85381</th>\n",
       "      <td>85381</td>\n",
       "      <td>Israel raids Gaza’s biggest hospital</td>\n",
       "      <td>Andrew England in Jerusalem and Neri Zilber i...</td>\n",
       "      <td>Thousands of people have taken refuge in al-Sh...</td>\n",
       "    </tr>\n",
       "    <tr>\n",
       "      <th>85382</th>\n",
       "      <td>85382</td>\n",
       "      <td>Soccer Aid's biggest line-up revealed with pop...</td>\n",
       "      <td>Maz Iqbal  express.co.uk, 19 March 2024, 12:0...</td>\n",
       "      <td>The Soccer Aid 2024 line-up has been announced...</td>\n",
       "    </tr>\n",
       "    <tr>\n",
       "      <th>85383</th>\n",
       "      <td>85383</td>\n",
       "      <td>Soccer Aid 2024 line-up in full as Bobby Brazi...</td>\n",
       "      <td>By Daniel Bird  Mirror.co.uk, 19 March 2024, ...</td>\n",
       "      <td>Soccer Aid is back with a huge line-up includi...</td>\n",
       "    </tr>\n",
       "  </tbody>\n",
       "</table>\n",
       "<p>85384 rows × 4 columns</p>\n",
       "</div>"
      ],
      "text/plain": [
       "       Unnamed: 0                                              Title  \\\n",
       "0               0  Opportunities to cut killer diseases toll / Br...   \n",
       "1               1       Spectrum: Waging war on heart disease (1528)   \n",
       "2               2  Workplace Cancer Risks 'Reduced To Minimum' / ...   \n",
       "3               3  British Association: Detention of Aids patient...   \n",
       "4               4            Spectrum: Why our trees are dying (600)   \n",
       "...           ...                                                ...   \n",
       "85379       85379  Oprah, 70, vehemently DEFENDS her Ozempic use ...   \n",
       "85380       85380  Biden told Netanyahu it would be a 'mistake' t...   \n",
       "85381       85381               Israel raids Gaza’s biggest hospital   \n",
       "85382       85382  Soccer Aid's biggest line-up revealed with pop...   \n",
       "85383       85383  Soccer Aid 2024 line-up in full as Bobby Brazi...   \n",
       "\n",
       "                                                  Byline  \\\n",
       "0       By THOMSON PRENTICE, Science Correspondent  T...   \n",
       "1       By THOMSON PRENTICE  The Times, 27 August 198...   \n",
       "2       By DAVID FISHLOCK  Financial Times, 28 August...   \n",
       "3          The Times, 28 August 1985, 415 words, English   \n",
       "4       By BOB SMYTH  The Times, 28 August 1985, 713 ...   \n",
       "...                                                  ...   \n",
       "85379   Kelsi Karruli For Dailymail.Com  Mail Online,...   \n",
       "85380   Emily Goodin, Senior U.S. Political Reporter ...   \n",
       "85381   Andrew England in Jerusalem and Neri Zilber i...   \n",
       "85382   Maz Iqbal  express.co.uk, 19 March 2024, 12:0...   \n",
       "85383   By Daniel Bird  Mirror.co.uk, 19 March 2024, ...   \n",
       "\n",
       "                                                    Text  \n",
       "0      Plans that could lead to reducing the death to...  \n",
       "1      It was only when two army padres had come to h...  \n",
       "2      Most cancer hazards in the workplace have been...  \n",
       "3      Compulsory powers to detain Aids patients in h...  \n",
       "4      Town trees throughout Britain are suffering se...  \n",
       "...                                                  ...  \n",
       "85379  * The 70-year-old icon revealed she was no lon...  \n",
       "85380  * White House National Security Adviser Jake S...  \n",
       "85381  Thousands of people have taken refuge in al-Sh...  \n",
       "85382  The Soccer Aid 2024 line-up has been announced...  \n",
       "85383  Soccer Aid is back with a huge line-up includi...  \n",
       "\n",
       "[85384 rows x 4 columns]"
      ]
     },
     "execution_count": 77,
     "metadata": {},
     "output_type": "execute_result"
    }
   ],
   "source": [
    "df2 = pd.read_csv('aids_factiva_0726_through_page_4156.csv')\n",
    "df2"
   ]
  },
  {
   "cell_type": "code",
   "execution_count": 78,
   "metadata": {},
   "outputs": [
    {
     "data": {
      "text/html": [
       "<div>\n",
       "<style scoped>\n",
       "    .dataframe tbody tr th:only-of-type {\n",
       "        vertical-align: middle;\n",
       "    }\n",
       "\n",
       "    .dataframe tbody tr th {\n",
       "        vertical-align: top;\n",
       "    }\n",
       "\n",
       "    .dataframe thead th {\n",
       "        text-align: right;\n",
       "    }\n",
       "</style>\n",
       "<table border=\"1\" class=\"dataframe\">\n",
       "  <thead>\n",
       "    <tr style=\"text-align: right;\">\n",
       "      <th></th>\n",
       "      <th>Title</th>\n",
       "      <th>Byline</th>\n",
       "      <th>Text</th>\n",
       "    </tr>\n",
       "  </thead>\n",
       "  <tbody>\n",
       "    <tr>\n",
       "      <th>0</th>\n",
       "      <td>Opportunities to cut killer diseases toll / Br...</td>\n",
       "      <td>By THOMSON PRENTICE, Science Correspondent  T...</td>\n",
       "      <td>Plans that could lead to reducing the death to...</td>\n",
       "    </tr>\n",
       "    <tr>\n",
       "      <th>1</th>\n",
       "      <td>Spectrum: Waging war on heart disease (1528)</td>\n",
       "      <td>By THOMSON PRENTICE  The Times, 27 August 198...</td>\n",
       "      <td>It was only when two army padres had come to h...</td>\n",
       "    </tr>\n",
       "    <tr>\n",
       "      <th>2</th>\n",
       "      <td>Workplace Cancer Risks 'Reduced To Minimum' / ...</td>\n",
       "      <td>By DAVID FISHLOCK  Financial Times, 28 August...</td>\n",
       "      <td>Most cancer hazards in the workplace have been...</td>\n",
       "    </tr>\n",
       "    <tr>\n",
       "      <th>3</th>\n",
       "      <td>British Association: Detention of Aids patient...</td>\n",
       "      <td>The Times, 28 August 1985, 415 words, English</td>\n",
       "      <td>Compulsory powers to detain Aids patients in h...</td>\n",
       "    </tr>\n",
       "    <tr>\n",
       "      <th>4</th>\n",
       "      <td>Spectrum: Why our trees are dying (600)</td>\n",
       "      <td>By BOB SMYTH  The Times, 28 August 1985, 713 ...</td>\n",
       "      <td>Town trees throughout Britain are suffering se...</td>\n",
       "    </tr>\n",
       "    <tr>\n",
       "      <th>...</th>\n",
       "      <td>...</td>\n",
       "      <td>...</td>\n",
       "      <td>...</td>\n",
       "    </tr>\n",
       "    <tr>\n",
       "      <th>86810</th>\n",
       "      <td>Thousands receive apology after being incorrec...</td>\n",
       "      <td>By Dan Sanderson, Scottish Correspondent  The...</td>\n",
       "      <td>Scottish Government says process was \"complex\"...</td>\n",
       "    </tr>\n",
       "    <tr>\n",
       "      <th>86811</th>\n",
       "      <td>Trump has a strategy for discrediting Dr Fauci...</td>\n",
       "      <td>Andrew Feinberg  Independent Online, 14 July ...</td>\n",
       "      <td>This playbook was originally written for Rober...</td>\n",
       "    </tr>\n",
       "    <tr>\n",
       "      <th>86812</th>\n",
       "      <td>Face masks to be compulsory in shops in Englan...</td>\n",
       "      <td>Lucy Campbell and Matthew Weaver  The Guardia...</td>\n",
       "      <td>Face coverings will be mandatory from 24 July ...</td>\n",
       "    </tr>\n",
       "    <tr>\n",
       "      <th>86813</th>\n",
       "      <td>Sydney hotel cluster rises to 30 – as it happened</td>\n",
       "      <td>Michael McGowan (now) and Calla Wahlquist (ea...</td>\n",
       "      <td>FOLLOW LIVE CORONAVIRUS UPDATES IN WEDNESDAY’S...</td>\n",
       "    </tr>\n",
       "    <tr>\n",
       "      <th>86814</th>\n",
       "      <td>Scientists generate first complete DNA sequenc...</td>\n",
       "      <td>Ryan Morrison For Mailonline  Mail Online, 14...</td>\n",
       "      <td>* Researchers mapped a special type of cell th...</td>\n",
       "    </tr>\n",
       "  </tbody>\n",
       "</table>\n",
       "<p>86815 rows × 3 columns</p>\n",
       "</div>"
      ],
      "text/plain": [
       "                                                   Title  \\\n",
       "0      Opportunities to cut killer diseases toll / Br...   \n",
       "1           Spectrum: Waging war on heart disease (1528)   \n",
       "2      Workplace Cancer Risks 'Reduced To Minimum' / ...   \n",
       "3      British Association: Detention of Aids patient...   \n",
       "4                Spectrum: Why our trees are dying (600)   \n",
       "...                                                  ...   \n",
       "86810  Thousands receive apology after being incorrec...   \n",
       "86811  Trump has a strategy for discrediting Dr Fauci...   \n",
       "86812  Face masks to be compulsory in shops in Englan...   \n",
       "86813  Sydney hotel cluster rises to 30 – as it happened   \n",
       "86814  Scientists generate first complete DNA sequenc...   \n",
       "\n",
       "                                                  Byline  \\\n",
       "0       By THOMSON PRENTICE, Science Correspondent  T...   \n",
       "1       By THOMSON PRENTICE  The Times, 27 August 198...   \n",
       "2       By DAVID FISHLOCK  Financial Times, 28 August...   \n",
       "3          The Times, 28 August 1985, 415 words, English   \n",
       "4       By BOB SMYTH  The Times, 28 August 1985, 713 ...   \n",
       "...                                                  ...   \n",
       "86810   By Dan Sanderson, Scottish Correspondent  The...   \n",
       "86811   Andrew Feinberg  Independent Online, 14 July ...   \n",
       "86812   Lucy Campbell and Matthew Weaver  The Guardia...   \n",
       "86813   Michael McGowan (now) and Calla Wahlquist (ea...   \n",
       "86814   Ryan Morrison For Mailonline  Mail Online, 14...   \n",
       "\n",
       "                                                    Text  \n",
       "0      Plans that could lead to reducing the death to...  \n",
       "1      It was only when two army padres had come to h...  \n",
       "2      Most cancer hazards in the workplace have been...  \n",
       "3      Compulsory powers to detain Aids patients in h...  \n",
       "4      Town trees throughout Britain are suffering se...  \n",
       "...                                                  ...  \n",
       "86810  Scottish Government says process was \"complex\"...  \n",
       "86811  This playbook was originally written for Rober...  \n",
       "86812  Face coverings will be mandatory from 24 July ...  \n",
       "86813  FOLLOW LIVE CORONAVIRUS UPDATES IN WEDNESDAY’S...  \n",
       "86814  * Researchers mapped a special type of cell th...  \n",
       "\n",
       "[86815 rows x 3 columns]"
      ]
     },
     "execution_count": 78,
     "metadata": {},
     "output_type": "execute_result"
    }
   ],
   "source": [
    "tot = pd.concat([df2, df]).drop_duplicates().reset_index(drop=True)\n",
    "tot = tot[['Title', 'Byline', 'Text']]\n",
    "tot"
   ]
  },
  {
   "cell_type": "code",
   "execution_count": 79,
   "metadata": {},
   "outputs": [],
   "source": [
    "tot.to_csv('aids_factiva_0726.csv')"
   ]
  },
  {
   "cell_type": "code",
   "execution_count": 68,
   "metadata": {},
   "outputs": [],
   "source": [
    "import re\n",
    "import pandas as pd\n",
    "tot = pd.read_csv('aids_factiva_0726_through_page_4156.csv')"
   ]
  },
  {
   "cell_type": "code",
   "execution_count": 69,
   "metadata": {},
   "outputs": [],
   "source": [
    "tot['date'] = tot.apply(lambda x: re.search(r'\\d{1,2}\\s+\\w+\\s+\\d{4}', x['Byline']).group(0), axis=1)\n",
    "\n",
    "# cast tot[date] to datetime\n",
    "tot['date'] = pd.to_datetime(tot['date'], format='%d %B %Y')"
   ]
  },
  {
   "cell_type": "code",
   "execution_count": 73,
   "metadata": {},
   "outputs": [
    {
     "data": {
      "text/plain": [
       "'2024-03-19'"
      ]
     },
     "execution_count": 73,
     "metadata": {},
     "output_type": "execute_result"
    }
   ],
   "source": [
    "tot['date'].sort_values().iloc[-1].strftime('%Y-%m-%d')"
   ]
  },
  {
   "cell_type": "code",
   "execution_count": 70,
   "metadata": {},
   "outputs": [
    {
     "data": {
      "text/plain": [
       "<Axes: xlabel='date', ylabel='Count'>"
      ]
     },
     "execution_count": 70,
     "metadata": {},
     "output_type": "execute_result"
    },
    {
     "data": {
      "image/png": "[encoded data removed]",
      "text/plain": [
       "<Figure size 2000x1000 with 1 Axes>"
      ]
     },
     "metadata": {},
     "output_type": "display_data"
    }
   ],
   "source": [
    "# plot date frequency as histogram\n",
    "import matplotlib.pyplot as plt\n",
    "import seaborn as sns\n",
    "\n",
    "plt.figure(figsize=(20, 10))\n",
    "sns.histplot(tot['date'], bins=100)"
   ]
  },
  {
   "cell_type": "code",
   "execution_count": null,
   "metadata": {},
   "outputs": [],
   "source": []
  },
  {
   "cell_type": "code",
   "execution_count": 91,
   "metadata": {},
   "outputs": [],
   "source": [
    "tot.to_csv(\"aids_factiva_0722_through_page_1738.csv\")"
   ]
  },
  {
   "cell_type": "code",
   "execution_count": 64,
   "metadata": {},
   "outputs": [],
   "source": [
    "import glob\n",
    "\n",
    "aids = pd.concat([pd.read_csv(f) for f in glob.glob('./aids_factiva_*_through_page_*.csv')]).reset_index(drop=True)"
   ]
  },
  {
   "cell_type": "code",
   "execution_count": 68,
   "metadata": {},
   "outputs": [],
   "source": [
    "aids.to_csv(\"aids_factiva_0722_through_page_1738.csv\")"
   ]
  },
  {
   "cell_type": "code",
   "execution_count": 67,
   "metadata": {},
   "outputs": [
    {
     "data": {
      "text/plain": [
       "23682"
      ]
     },
     "execution_count": 67,
     "metadata": {},
     "output_type": "execute_result"
    }
   ],
   "source": [
    "len(aids)"
   ]
  },
  {
   "cell_type": "code",
   "execution_count": 74,
   "metadata": {},
   "outputs": [
    {
     "data": {
      "text/html": [
       "<div>\n",
       "<style scoped>\n",
       "    .dataframe tbody tr th:only-of-type {\n",
       "        vertical-align: middle;\n",
       "    }\n",
       "\n",
       "    .dataframe tbody tr th {\n",
       "        vertical-align: top;\n",
       "    }\n",
       "\n",
       "    .dataframe thead th {\n",
       "        text-align: right;\n",
       "    }\n",
       "</style>\n",
       "<table border=\"1\" class=\"dataframe\">\n",
       "  <thead>\n",
       "    <tr style=\"text-align: right;\">\n",
       "      <th></th>\n",
       "      <th>Unnamed: 0</th>\n",
       "      <th>Title</th>\n",
       "      <th>Byline</th>\n",
       "      <th>Text</th>\n",
       "    </tr>\n",
       "  </thead>\n",
       "  <tbody>\n",
       "    <tr>\n",
       "      <th>0</th>\n",
       "      <td>0</td>\n",
       "      <td>\\nThe West at War - The Hunted - LADEN HAS GON...</td>\n",
       "      <td>\\nBy GERARD COUZENS.\\n The Sunday Mirror, 9 D...</td>\n",
       "      <td>\\nAfter 63 days, tens of billions of dollars a...</td>\n",
       "    </tr>\n",
       "    <tr>\n",
       "      <th>1</th>\n",
       "      <td>1</td>\n",
       "      <td>\\nThe West at War - The Hunted - LADEN HAS GON...</td>\n",
       "      <td>\\nBy GERARD COUZENS.\\n The Sunday Mirror, 9 D...</td>\n",
       "      <td>\\nAfter 63 days, tens of billions of dollars a...</td>\n",
       "    </tr>\n",
       "    <tr>\n",
       "      <th>2</th>\n",
       "      <td>2</td>\n",
       "      <td>Mouse clue to obesity - What's new - Spectrum.</td>\n",
       "      <td>The Sunday Times, 9 December 2001, 111 words, ...</td>\n",
       "      <td>American researchers have genetically engineer...</td>\n",
       "    </tr>\n",
       "    <tr>\n",
       "      <th>3</th>\n",
       "      <td>3</td>\n",
       "      <td>\\nCHRISTMAS APPEAL - IRISH KIDS NEED YOUR DONA...</td>\n",
       "      <td>\\nBy STEPHEN MAGUIRE.\\n People, 9 December 20...</td>\n",
       "      <td>\\nLAST week we launched our Christmas Appeal i...</td>\n",
       "    </tr>\n",
       "    <tr>\n",
       "      <th>4</th>\n",
       "      <td>4</td>\n",
       "      <td>\\nS&amp;M The IoS sex column, with Suzi and Mel.\\n</td>\n",
       "      <td>\\nBy Suzi and Mel.\\n Independent On Sunday, 9...</td>\n",
       "      <td>\\n\"There is something I need to tell you...\" E...</td>\n",
       "    </tr>\n",
       "    <tr>\n",
       "      <th>...</th>\n",
       "      <td>...</td>\n",
       "      <td>...</td>\n",
       "      <td>...</td>\n",
       "      <td>...</td>\n",
       "    </tr>\n",
       "    <tr>\n",
       "      <th>23677</th>\n",
       "      <td>4574</td>\n",
       "      <td>\\nThe West at War - The Hunted - LADEN HAS GON...</td>\n",
       "      <td>\\nBy GERARD COUZENS.\\n The Sunday Mirror, 9 D...</td>\n",
       "      <td>\\nAfter 63 days, tens of billions of dollars a...</td>\n",
       "    </tr>\n",
       "    <tr>\n",
       "      <th>23678</th>\n",
       "      <td>4575</td>\n",
       "      <td>\\nThe West at War - The Hunted - LADEN HAS GON...</td>\n",
       "      <td>\\nBy GERARD COUZENS.\\n The Sunday Mirror, 9 D...</td>\n",
       "      <td>\\nAfter 63 days, tens of billions of dollars a...</td>\n",
       "    </tr>\n",
       "    <tr>\n",
       "      <th>23679</th>\n",
       "      <td>4576</td>\n",
       "      <td>Mouse clue to obesity - What's new - Spectrum.</td>\n",
       "      <td>The Sunday Times, 9 December 2001, 111 words, ...</td>\n",
       "      <td>American researchers have genetically engineer...</td>\n",
       "    </tr>\n",
       "    <tr>\n",
       "      <th>23680</th>\n",
       "      <td>4577</td>\n",
       "      <td>\\nCHRISTMAS APPEAL - IRISH KIDS NEED YOUR DONA...</td>\n",
       "      <td>\\nBy STEPHEN MAGUIRE.\\n People, 9 December 20...</td>\n",
       "      <td>\\nLAST week we launched our Christmas Appeal i...</td>\n",
       "    </tr>\n",
       "    <tr>\n",
       "      <th>23681</th>\n",
       "      <td>4578</td>\n",
       "      <td>\\nS&amp;M The IoS sex column, with Suzi and Mel.\\n</td>\n",
       "      <td>\\nBy Suzi and Mel.\\n Independent On Sunday, 9...</td>\n",
       "      <td>\\n\"There is something I need to tell you...\" E...</td>\n",
       "    </tr>\n",
       "  </tbody>\n",
       "</table>\n",
       "<p>23682 rows × 4 columns</p>\n",
       "</div>"
      ],
      "text/plain": [
       "       Unnamed: 0                                              Title  \\\n",
       "0               0  \\nThe West at War - The Hunted - LADEN HAS GON...   \n",
       "1               1  \\nThe West at War - The Hunted - LADEN HAS GON...   \n",
       "2               2     Mouse clue to obesity - What's new - Spectrum.   \n",
       "3               3  \\nCHRISTMAS APPEAL - IRISH KIDS NEED YOUR DONA...   \n",
       "4               4     \\nS&M The IoS sex column, with Suzi and Mel.\\n   \n",
       "...           ...                                                ...   \n",
       "23677        4574  \\nThe West at War - The Hunted - LADEN HAS GON...   \n",
       "23678        4575  \\nThe West at War - The Hunted - LADEN HAS GON...   \n",
       "23679        4576     Mouse clue to obesity - What's new - Spectrum.   \n",
       "23680        4577  \\nCHRISTMAS APPEAL - IRISH KIDS NEED YOUR DONA...   \n",
       "23681        4578     \\nS&M The IoS sex column, with Suzi and Mel.\\n   \n",
       "\n",
       "                                                  Byline  \\\n",
       "0       \\nBy GERARD COUZENS.\\n The Sunday Mirror, 9 D...   \n",
       "1       \\nBy GERARD COUZENS.\\n The Sunday Mirror, 9 D...   \n",
       "2      The Sunday Times, 9 December 2001, 111 words, ...   \n",
       "3       \\nBy STEPHEN MAGUIRE.\\n People, 9 December 20...   \n",
       "4       \\nBy Suzi and Mel.\\n Independent On Sunday, 9...   \n",
       "...                                                  ...   \n",
       "23677   \\nBy GERARD COUZENS.\\n The Sunday Mirror, 9 D...   \n",
       "23678   \\nBy GERARD COUZENS.\\n The Sunday Mirror, 9 D...   \n",
       "23679  The Sunday Times, 9 December 2001, 111 words, ...   \n",
       "23680   \\nBy STEPHEN MAGUIRE.\\n People, 9 December 20...   \n",
       "23681   \\nBy Suzi and Mel.\\n Independent On Sunday, 9...   \n",
       "\n",
       "                                                    Text  \n",
       "0      \\nAfter 63 days, tens of billions of dollars a...  \n",
       "1      \\nAfter 63 days, tens of billions of dollars a...  \n",
       "2      American researchers have genetically engineer...  \n",
       "3      \\nLAST week we launched our Christmas Appeal i...  \n",
       "4      \\n\"There is something I need to tell you...\" E...  \n",
       "...                                                  ...  \n",
       "23677  \\nAfter 63 days, tens of billions of dollars a...  \n",
       "23678  \\nAfter 63 days, tens of billions of dollars a...  \n",
       "23679  American researchers have genetically engineer...  \n",
       "23680  \\nLAST week we launched our Christmas Appeal i...  \n",
       "23681  \\n\"There is something I need to tell you...\" E...  \n",
       "\n",
       "[23682 rows x 4 columns]"
      ]
     },
     "execution_count": 74,
     "metadata": {},
     "output_type": "execute_result"
    }
   ],
   "source": [
    "aids"
   ]
  },
  {
   "cell_type": "code",
   "execution_count": 73,
   "metadata": {},
   "outputs": [
    {
     "data": {
      "text/plain": [
       "0        9 December 2001\n",
       "1        9 December 2001\n",
       "2        9 December 2001\n",
       "3        9 December 2001\n",
       "4        9 December 2001\n",
       "              ...       \n",
       "23677    9 December 2001\n",
       "23678    9 December 2001\n",
       "23679    9 December 2001\n",
       "23680    9 December 2001\n",
       "23681    9 December 2001\n",
       "Length: 23682, dtype: object"
      ]
     },
     "execution_count": 73,
     "metadata": {},
     "output_type": "execute_result"
    }
   ],
   "source": [
    "import re\n",
    "aids.apply(lambda x: re.search(r'\\d{1,2}\\s+\\w+\\s+\\d{4}', x['Byline']).group(0), axis=1)\n",
    "#aids['date'] = "
   ]
  },
  {
   "cell_type": "code",
   "execution_count": 41,
   "metadata": {},
   "outputs": [],
   "source": [
    "aids_to_export = df[:500]\n",
    "aids_to_export.to_csv(\"aids_factiva_0717_first500.csv\")"
   ]
  },
  {
   "cell_type": "code",
   "execution_count": 42,
   "metadata": {},
   "outputs": [],
   "source": [
    "from docx import Document\n",
    "\n",
    "doc = Document()\n",
    "p = doc.add_heading('First 500 AIDS Articles', 0)\n",
    "p.bold = True\n",
    "\n",
    "for i, row in aids_to_export.iterrows():\n",
    "    doc.add_heading(row['Title'], level=1)\n",
    "    doc.add_paragraph(row['Byline'])\n",
    "    doc.add_paragraph(row['Text'])\n",
    "    doc.add_page_break()\n",
    "\n",
    "doc.save('aids_factiva_0717_first500.docx')"
   ]
  },
  {
   "cell_type": "code",
   "execution_count": null,
   "metadata": {},
   "outputs": [],
   "source": []
  },
  {
   "cell_type": "markdown",
   "metadata": {},
   "source": [
    "# Postproc"
   ]
  },
  {
   "cell_type": "code",
   "execution_count": 21,
   "metadata": {},
   "outputs": [],
   "source": [
    "import pandas as pd\n",
    "hepc = pd.read_csv(\"hepc_factiva_0716.csv\")\n",
    "aids = pd.read_csv(\"aids_factiva_0726.csv\")"
   ]
  },
  {
   "cell_type": "code",
   "execution_count": 22,
   "metadata": {},
   "outputs": [
    {
     "data": {
      "text/plain": [
       "' Lucy Campbell and Matthew Weaver  The Guardian, 14 July 2020, 8:33 pm GMT, 12,438 words, English'"
      ]
     },
     "execution_count": 22,
     "metadata": {},
     "output_type": "execute_result"
    }
   ],
   "source": [
    "aids.iloc[-3].Byline"
   ]
  },
  {
   "cell_type": "code",
   "execution_count": 23,
   "metadata": {},
   "outputs": [
    {
     "data": {
      "text/plain": [
       "' MARK HOOKHAM  Mail on Sunday, 27 November 2022, 850 words, English'"
      ]
     },
     "execution_count": 23,
     "metadata": {},
     "output_type": "execute_result"
    }
   ],
   "source": [
    "hepc.iloc[-3].Byline"
   ]
  },
  {
   "cell_type": "code",
   "execution_count": 24,
   "metadata": {},
   "outputs": [],
   "source": [
    "import re\n",
    "aids['date'] = aids.apply(lambda x: re.search(r'\\d{1,2}\\s+\\w+\\s+\\d{4}', x['Byline']).group(0), axis=1)\n",
    "aids['date'] = pd.to_datetime(aids['date'], format='%d %B %Y')\n",
    "aids = aids.sort_values(by='date')"
   ]
  },
  {
   "cell_type": "code",
   "execution_count": 28,
   "metadata": {},
   "outputs": [
    {
     "data": {
      "text/html": [
       "<div>\n",
       "<style scoped>\n",
       "    .dataframe tbody tr th:only-of-type {\n",
       "        vertical-align: middle;\n",
       "    }\n",
       "\n",
       "    .dataframe tbody tr th {\n",
       "        vertical-align: top;\n",
       "    }\n",
       "\n",
       "    .dataframe thead th {\n",
       "        text-align: right;\n",
       "    }\n",
       "</style>\n",
       "<table border=\"1\" class=\"dataframe\">\n",
       "  <thead>\n",
       "    <tr style=\"text-align: right;\">\n",
       "      <th></th>\n",
       "      <th>Unnamed: 0</th>\n",
       "      <th>Title</th>\n",
       "      <th>Byline</th>\n",
       "      <th>Text</th>\n",
       "      <th>date</th>\n",
       "    </tr>\n",
       "  </thead>\n",
       "  <tbody>\n",
       "    <tr>\n",
       "      <th>0</th>\n",
       "      <td>54535</td>\n",
       "      <td>Obituary: Obituary: Universally venerated hero...</td>\n",
       "      <td>David Beresford Rolihlahla Nelson Mandela, st...</td>\n",
       "      <td>One must go back to Dallas, Texas, in 1963 to ...</td>\n",
       "      <td>1918-07-18</td>\n",
       "    </tr>\n",
       "    <tr>\n",
       "      <th>1</th>\n",
       "      <td>13379</td>\n",
       "      <td>The Financial Times has examined the possibili...</td>\n",
       "      <td>Financial Times, 28 March 1981, 359 words, Eng...</td>\n",
       "      <td>Biotechnology is the use of living organisms i...</td>\n",
       "      <td>1981-03-28</td>\n",
       "    </tr>\n",
       "    <tr>\n",
       "      <th>2</th>\n",
       "      <td>13380</td>\n",
       "      <td>Mr Arthur Scargill, president elect of the Nat...</td>\n",
       "      <td>Financial Times, 13 January 1982, 140 words, E...</td>\n",
       "      <td>Mr Scargill says that the National Coal Board ...</td>\n",
       "      <td>1982-01-13</td>\n",
       "    </tr>\n",
       "    <tr>\n",
       "      <th>3</th>\n",
       "      <td>13381</td>\n",
       "      <td>Companies and Markets: International Companies...</td>\n",
       "      <td>By JOHN WICKS  Financial Times, 20 January 19...</td>\n",
       "      <td>SWISS CHEMICAL companies are felling justifiab...</td>\n",
       "      <td>1982-01-20</td>\n",
       "    </tr>\n",
       "    <tr>\n",
       "      <th>4</th>\n",
       "      <td>13382</td>\n",
       "      <td>Leisure: Gardening - Parable of the sower</td>\n",
       "      <td>By ARTHUR HELLYER  Financial Times, 30 Januar...</td>\n",
       "      <td>ON THE window ledge is a little plastic seed t...</td>\n",
       "      <td>1982-01-30</td>\n",
       "    </tr>\n",
       "    <tr>\n",
       "      <th>...</th>\n",
       "      <td>...</td>\n",
       "      <td>...</td>\n",
       "      <td>...</td>\n",
       "      <td>...</td>\n",
       "      <td>...</td>\n",
       "    </tr>\n",
       "    <tr>\n",
       "      <th>86810</th>\n",
       "      <td>86542</td>\n",
       "      <td>13 best electric toothbrushes, tried and teste...</td>\n",
       "      <td>Steve Hogarty  Independent Online, 25 July 20...</td>\n",
       "      <td>From Philips to Oral-B, there are brushes to s...</td>\n",
       "      <td>2024-07-25</td>\n",
       "    </tr>\n",
       "    <tr>\n",
       "      <th>86811</th>\n",
       "      <td>86555</td>\n",
       "      <td>Asphalt burns, delirium, body bags: extreme he...</td>\n",
       "      <td>Aliya Uteuova  The Guardian, 26 July 2024, 4:...</td>\n",
       "      <td>More than 120,000 heat-related ER visits were ...</td>\n",
       "      <td>2024-07-26</td>\n",
       "    </tr>\n",
       "    <tr>\n",
       "      <th>86812</th>\n",
       "      <td>86552</td>\n",
       "      <td>Children in Gaza are now at risk of polio as w...</td>\n",
       "      <td>Tedros Adhanom Ghebreyesus  The Guardian, 26 ...</td>\n",
       "      <td>We are sending 1m polio vaccines to Gaza but m...</td>\n",
       "      <td>2024-07-26</td>\n",
       "    </tr>\n",
       "    <tr>\n",
       "      <th>86813</th>\n",
       "      <td>86553</td>\n",
       "      <td>Wood pellets production boomed to feed EU dema...</td>\n",
       "      <td>James Pollard, Julie Watson and Stephen Smith...</td>\n",
       "      <td>Wood pellet production has skyrocketed across ...</td>\n",
       "      <td>2024-07-26</td>\n",
       "    </tr>\n",
       "    <tr>\n",
       "      <th>86814</th>\n",
       "      <td>86554</td>\n",
       "      <td>Israeli official criticises Kamala Harris’s ca...</td>\n",
       "      <td>Tom Ambrose (now) and Charlie Moloney (earlie...</td>\n",
       "      <td>Unnamed official says comments should not be i...</td>\n",
       "      <td>2024-07-26</td>\n",
       "    </tr>\n",
       "  </tbody>\n",
       "</table>\n",
       "<p>86815 rows × 5 columns</p>\n",
       "</div>"
      ],
      "text/plain": [
       "       Unnamed: 0                                              Title  \\\n",
       "0           54535  Obituary: Obituary: Universally venerated hero...   \n",
       "1           13379  The Financial Times has examined the possibili...   \n",
       "2           13380  Mr Arthur Scargill, president elect of the Nat...   \n",
       "3           13381  Companies and Markets: International Companies...   \n",
       "4           13382          Leisure: Gardening - Parable of the sower   \n",
       "...           ...                                                ...   \n",
       "86810       86542  13 best electric toothbrushes, tried and teste...   \n",
       "86811       86555  Asphalt burns, delirium, body bags: extreme he...   \n",
       "86812       86552  Children in Gaza are now at risk of polio as w...   \n",
       "86813       86553  Wood pellets production boomed to feed EU dema...   \n",
       "86814       86554  Israeli official criticises Kamala Harris’s ca...   \n",
       "\n",
       "                                                  Byline  \\\n",
       "0       David Beresford Rolihlahla Nelson Mandela, st...   \n",
       "1      Financial Times, 28 March 1981, 359 words, Eng...   \n",
       "2      Financial Times, 13 January 1982, 140 words, E...   \n",
       "3       By JOHN WICKS  Financial Times, 20 January 19...   \n",
       "4       By ARTHUR HELLYER  Financial Times, 30 Januar...   \n",
       "...                                                  ...   \n",
       "86810   Steve Hogarty  Independent Online, 25 July 20...   \n",
       "86811   Aliya Uteuova  The Guardian, 26 July 2024, 4:...   \n",
       "86812   Tedros Adhanom Ghebreyesus  The Guardian, 26 ...   \n",
       "86813   James Pollard, Julie Watson and Stephen Smith...   \n",
       "86814   Tom Ambrose (now) and Charlie Moloney (earlie...   \n",
       "\n",
       "                                                    Text       date  \n",
       "0      One must go back to Dallas, Texas, in 1963 to ... 1918-07-18  \n",
       "1      Biotechnology is the use of living organisms i... 1981-03-28  \n",
       "2      Mr Scargill says that the National Coal Board ... 1982-01-13  \n",
       "3      SWISS CHEMICAL companies are felling justifiab... 1982-01-20  \n",
       "4      ON THE window ledge is a little plastic seed t... 1982-01-30  \n",
       "...                                                  ...        ...  \n",
       "86810  From Philips to Oral-B, there are brushes to s... 2024-07-25  \n",
       "86811  More than 120,000 heat-related ER visits were ... 2024-07-26  \n",
       "86812  We are sending 1m polio vaccines to Gaza but m... 2024-07-26  \n",
       "86813  Wood pellet production has skyrocketed across ... 2024-07-26  \n",
       "86814  Unnamed official says comments should not be i... 2024-07-26  \n",
       "\n",
       "[86815 rows x 5 columns]"
      ]
     },
     "execution_count": 28,
     "metadata": {},
     "output_type": "execute_result"
    }
   ],
   "source": [
    "aids = aids.reset_index(drop=True)   \n",
    "aids"
   ]
  },
  {
   "cell_type": "code",
   "execution_count": 63,
   "metadata": {},
   "outputs": [
    {
     "data": {
      "text/plain": [
       "'No author in byline'"
      ]
     },
     "execution_count": 63,
     "metadata": {},
     "output_type": "execute_result"
    }
   ],
   "source": [
    "def get_author_name(x):\n",
    "    x_split = x.split(',')\n",
    "    for s in x_split:\n",
    "        if ('By' in s):\n",
    "            name_newspaper = s.split('By')[1].strip()\n",
    "            if '  ' in name_newspaper:\n",
    "                return name_newspaper.split('  ')[0]\n",
    "            else:\n",
    "                return name_newspaper\n",
    "        elif ('BY' in s):\n",
    "            name_newspaper = s.split('BY')[1].strip()\n",
    "            if '  ' in name_newspaper:\n",
    "                return name_newspaper.split('  ')[0]\n",
    "            else:\n",
    "                return name_newspaper\n",
    "        else:\n",
    "            if '  ' in s:\n",
    "                return s.split('  ')[0].strip()\n",
    "            else:\n",
    "                return 'No author in byline'\n",
    "        \n",
    "aids.Byline.apply(get_author_name).iloc[48002]"
   ]
  },
  {
   "cell_type": "code",
   "execution_count": 66,
   "metadata": {},
   "outputs": [
    {
     "data": {
      "text/plain": [
       "0                                    No author in byline\n",
       "1                                    No author in byline\n",
       "2                                    No author in byline\n",
       "3                                             JOHN WICKS\n",
       "4                                         ARTHUR HELLYER\n",
       "                              ...                       \n",
       "86810                                      Steve Hogarty\n",
       "86811                                      Aliya Uteuova\n",
       "86812                         Tedros Adhanom Ghebreyesus\n",
       "86813                                No author in byline\n",
       "86814    Tom Ambrose (now) and Charlie Moloney (earlier)\n",
       "Name: Byline, Length: 86815, dtype: object"
      ]
     },
     "execution_count": 66,
     "metadata": {},
     "output_type": "execute_result"
    }
   ],
   "source": [
    "name_parse_test = aids.Byline.apply(get_author_name)\n",
    "name_parse_test"
   ]
  },
  {
   "cell_type": "code",
   "execution_count": 69,
   "metadata": {},
   "outputs": [],
   "source": [
    "aids['author'] = aids.Byline.apply(get_author_name)"
   ]
  },
  {
   "cell_type": "code",
   "execution_count": 72,
   "metadata": {},
   "outputs": [
    {
     "data": {
      "text/plain": [
       "'Financial Times, 28 March 1981, 359 words, English'"
      ]
     },
     "execution_count": 72,
     "metadata": {},
     "output_type": "execute_result"
    }
   ],
   "source": [
    "aids.Byline.iloc[1]"
   ]
  },
  {
   "cell_type": "code",
   "execution_count": 115,
   "metadata": {},
   "outputs": [
    {
     "data": {
      "text/plain": [
       "0               Guardian\n",
       "1        Financial Times\n",
       "2        Financial Times\n",
       "3        Financial Times\n",
       "4        Financial Times\n",
       "              ...       \n",
       "86810        Independent\n",
       "86811           Guardian\n",
       "86812           Guardian\n",
       "86813        Independent\n",
       "86814           Guardian\n",
       "Name: Byline, Length: 86815, dtype: object"
      ]
     },
     "execution_count": 115,
     "metadata": {},
     "output_type": "execute_result"
    }
   ],
   "source": [
    "uk_papers = [\n",
    "    \"Sunday Times\",\n",
    "    \"Times\",\n",
    "    \"Daily Telegraph\",\n",
    "    \"Observer\",\n",
    "    \"Independent\",\n",
    "    \"Guardian\",\n",
    "    \"Financial Times\",\n",
    "    \"Sun\",\n",
    "    \"Daily Mail\",\n",
    "    \"Daily Express\",\n",
    "    \"Daily Mirror\",\n",
    "    \"Sunday People\",\n",
    "    \"Daily Star\",\n",
    "    \"Evening Standard\",\n",
    "    \"Metro\",\n",
    "    \"Mail on Sunday\",\n",
    "    \"Sunday Mirror\",\n",
    "    \"Express on Sunday\",\n",
    "    \"Sunday Telegraph\",\n",
    "    \"Sunday Express\",\n",
    "    \"thesun.co.uk\",\n",
    "    \"Mail Online\",\n",
    "    \"Telegraph Online\",\n",
    "    \"Mirror.co.uk\",\n",
    "    \"thetimes.co.uk\",\n",
    "    \"dailystar.co.uk\"\n",
    "]\n",
    "\n",
    "def get_paper(x):\n",
    "    if any([p in x for p in uk_papers]):\n",
    "        newspaper = re.search(r'\\b(?:{})\\b'.format('|'.join(uk_papers)), x)\n",
    "        if newspaper:\n",
    "            return newspaper.group(0)\n",
    "        else:\n",
    "            return 'No UK newspaper found'\n",
    "\n",
    "aids.Byline.apply(get_paper)"
   ]
  },
  {
   "cell_type": "code",
   "execution_count": 118,
   "metadata": {},
   "outputs": [],
   "source": [
    "aids['newspaper'] = aids.Byline.apply(get_paper)"
   ]
  },
  {
   "cell_type": "code",
   "execution_count": 121,
   "metadata": {},
   "outputs": [
    {
     "data": {
      "text/html": [
       "<div>\n",
       "<style scoped>\n",
       "    .dataframe tbody tr th:only-of-type {\n",
       "        vertical-align: middle;\n",
       "    }\n",
       "\n",
       "    .dataframe tbody tr th {\n",
       "        vertical-align: top;\n",
       "    }\n",
       "\n",
       "    .dataframe thead th {\n",
       "        text-align: right;\n",
       "    }\n",
       "</style>\n",
       "<table border=\"1\" class=\"dataframe\">\n",
       "  <thead>\n",
       "    <tr style=\"text-align: right;\">\n",
       "      <th></th>\n",
       "      <th>Title</th>\n",
       "      <th>date</th>\n",
       "      <th>author</th>\n",
       "      <th>newspaper</th>\n",
       "      <th>Text</th>\n",
       "    </tr>\n",
       "  </thead>\n",
       "  <tbody>\n",
       "    <tr>\n",
       "      <th>0</th>\n",
       "      <td>Obituary: Obituary: Universally venerated hero...</td>\n",
       "      <td>1918-07-18</td>\n",
       "      <td>No author in byline</td>\n",
       "      <td>Guardian</td>\n",
       "      <td>One must go back to Dallas, Texas, in 1963 to ...</td>\n",
       "    </tr>\n",
       "    <tr>\n",
       "      <th>1</th>\n",
       "      <td>The Financial Times has examined the possibili...</td>\n",
       "      <td>1981-03-28</td>\n",
       "      <td>No author in byline</td>\n",
       "      <td>Financial Times</td>\n",
       "      <td>Biotechnology is the use of living organisms i...</td>\n",
       "    </tr>\n",
       "    <tr>\n",
       "      <th>2</th>\n",
       "      <td>Mr Arthur Scargill, president elect of the Nat...</td>\n",
       "      <td>1982-01-13</td>\n",
       "      <td>No author in byline</td>\n",
       "      <td>Financial Times</td>\n",
       "      <td>Mr Scargill says that the National Coal Board ...</td>\n",
       "    </tr>\n",
       "    <tr>\n",
       "      <th>3</th>\n",
       "      <td>Companies and Markets: International Companies...</td>\n",
       "      <td>1982-01-20</td>\n",
       "      <td>JOHN WICKS</td>\n",
       "      <td>Financial Times</td>\n",
       "      <td>SWISS CHEMICAL companies are felling justifiab...</td>\n",
       "    </tr>\n",
       "    <tr>\n",
       "      <th>4</th>\n",
       "      <td>Leisure: Gardening - Parable of the sower</td>\n",
       "      <td>1982-01-30</td>\n",
       "      <td>ARTHUR HELLYER</td>\n",
       "      <td>Financial Times</td>\n",
       "      <td>ON THE window ledge is a little plastic seed t...</td>\n",
       "    </tr>\n",
       "    <tr>\n",
       "      <th>...</th>\n",
       "      <td>...</td>\n",
       "      <td>...</td>\n",
       "      <td>...</td>\n",
       "      <td>...</td>\n",
       "      <td>...</td>\n",
       "    </tr>\n",
       "    <tr>\n",
       "      <th>86810</th>\n",
       "      <td>13 best electric toothbrushes, tried and teste...</td>\n",
       "      <td>2024-07-25</td>\n",
       "      <td>Steve Hogarty</td>\n",
       "      <td>Independent</td>\n",
       "      <td>From Philips to Oral-B, there are brushes to s...</td>\n",
       "    </tr>\n",
       "    <tr>\n",
       "      <th>86811</th>\n",
       "      <td>Asphalt burns, delirium, body bags: extreme he...</td>\n",
       "      <td>2024-07-26</td>\n",
       "      <td>Aliya Uteuova</td>\n",
       "      <td>Guardian</td>\n",
       "      <td>More than 120,000 heat-related ER visits were ...</td>\n",
       "    </tr>\n",
       "    <tr>\n",
       "      <th>86812</th>\n",
       "      <td>Children in Gaza are now at risk of polio as w...</td>\n",
       "      <td>2024-07-26</td>\n",
       "      <td>Tedros Adhanom Ghebreyesus</td>\n",
       "      <td>Guardian</td>\n",
       "      <td>We are sending 1m polio vaccines to Gaza but m...</td>\n",
       "    </tr>\n",
       "    <tr>\n",
       "      <th>86813</th>\n",
       "      <td>Wood pellets production boomed to feed EU dema...</td>\n",
       "      <td>2024-07-26</td>\n",
       "      <td>No author in byline</td>\n",
       "      <td>Independent</td>\n",
       "      <td>Wood pellet production has skyrocketed across ...</td>\n",
       "    </tr>\n",
       "    <tr>\n",
       "      <th>86814</th>\n",
       "      <td>Israeli official criticises Kamala Harris’s ca...</td>\n",
       "      <td>2024-07-26</td>\n",
       "      <td>Tom Ambrose (now) and Charlie Moloney (earlier)</td>\n",
       "      <td>Guardian</td>\n",
       "      <td>Unnamed official says comments should not be i...</td>\n",
       "    </tr>\n",
       "  </tbody>\n",
       "</table>\n",
       "<p>86815 rows × 5 columns</p>\n",
       "</div>"
      ],
      "text/plain": [
       "                                                   Title       date  \\\n",
       "0      Obituary: Obituary: Universally venerated hero... 1918-07-18   \n",
       "1      The Financial Times has examined the possibili... 1981-03-28   \n",
       "2      Mr Arthur Scargill, president elect of the Nat... 1982-01-13   \n",
       "3      Companies and Markets: International Companies... 1982-01-20   \n",
       "4              Leisure: Gardening - Parable of the sower 1982-01-30   \n",
       "...                                                  ...        ...   \n",
       "86810  13 best electric toothbrushes, tried and teste... 2024-07-25   \n",
       "86811  Asphalt burns, delirium, body bags: extreme he... 2024-07-26   \n",
       "86812  Children in Gaza are now at risk of polio as w... 2024-07-26   \n",
       "86813  Wood pellets production boomed to feed EU dema... 2024-07-26   \n",
       "86814  Israeli official criticises Kamala Harris’s ca... 2024-07-26   \n",
       "\n",
       "                                                author        newspaper  \\\n",
       "0                                  No author in byline         Guardian   \n",
       "1                                  No author in byline  Financial Times   \n",
       "2                                  No author in byline  Financial Times   \n",
       "3                                           JOHN WICKS  Financial Times   \n",
       "4                                       ARTHUR HELLYER  Financial Times   \n",
       "...                                                ...              ...   \n",
       "86810                                    Steve Hogarty      Independent   \n",
       "86811                                    Aliya Uteuova         Guardian   \n",
       "86812                       Tedros Adhanom Ghebreyesus         Guardian   \n",
       "86813                              No author in byline      Independent   \n",
       "86814  Tom Ambrose (now) and Charlie Moloney (earlier)         Guardian   \n",
       "\n",
       "                                                    Text  \n",
       "0      One must go back to Dallas, Texas, in 1963 to ...  \n",
       "1      Biotechnology is the use of living organisms i...  \n",
       "2      Mr Scargill says that the National Coal Board ...  \n",
       "3      SWISS CHEMICAL companies are felling justifiab...  \n",
       "4      ON THE window ledge is a little plastic seed t...  \n",
       "...                                                  ...  \n",
       "86810  From Philips to Oral-B, there are brushes to s...  \n",
       "86811  More than 120,000 heat-related ER visits were ...  \n",
       "86812  We are sending 1m polio vaccines to Gaza but m...  \n",
       "86813  Wood pellet production has skyrocketed across ...  \n",
       "86814  Unnamed official says comments should not be i...  \n",
       "\n",
       "[86815 rows x 5 columns]"
      ]
     },
     "execution_count": 121,
     "metadata": {},
     "output_type": "execute_result"
    }
   ],
   "source": [
    "aids = aids[['Title', 'date', 'author', 'newspaper', 'Text']]\n",
    "aids"
   ]
  },
  {
   "cell_type": "code",
   "execution_count": 122,
   "metadata": {},
   "outputs": [],
   "source": [
    "aids.to_csv(\"aids_parsed_0801.csv\")"
   ]
  },
  {
   "cell_type": "code",
   "execution_count": 123,
   "metadata": {},
   "outputs": [],
   "source": [
    "hepc['date'] = hepc.apply(lambda x: re.search(r'\\d{1,2}\\s+\\w+\\s+\\d{4}', x['Byline']).group(0), axis=1)\n",
    "hepc['date'] = pd.to_datetime(hepc['date'], format='%d %B %Y')\n",
    "hepc = hepc.sort_values(by='date')"
   ]
  },
  {
   "cell_type": "code",
   "execution_count": 124,
   "metadata": {},
   "outputs": [],
   "source": [
    "hepc['author'] = hepc.Byline.apply(get_author_name)\n",
    "hepc['newspaper'] = hepc.Byline.apply(get_paper)"
   ]
  },
  {
   "cell_type": "code",
   "execution_count": 125,
   "metadata": {},
   "outputs": [
    {
     "data": {
      "text/html": [
       "<div>\n",
       "<style scoped>\n",
       "    .dataframe tbody tr th:only-of-type {\n",
       "        vertical-align: middle;\n",
       "    }\n",
       "\n",
       "    .dataframe tbody tr th {\n",
       "        vertical-align: top;\n",
       "    }\n",
       "\n",
       "    .dataframe thead th {\n",
       "        text-align: right;\n",
       "    }\n",
       "</style>\n",
       "<table border=\"1\" class=\"dataframe\">\n",
       "  <thead>\n",
       "    <tr style=\"text-align: right;\">\n",
       "      <th></th>\n",
       "      <th>Unnamed: 0</th>\n",
       "      <th>Title</th>\n",
       "      <th>Byline</th>\n",
       "      <th>Text</th>\n",
       "      <th>date</th>\n",
       "      <th>author</th>\n",
       "      <th>newspaper</th>\n",
       "    </tr>\n",
       "  </thead>\n",
       "  <tbody>\n",
       "    <tr>\n",
       "      <th>0</th>\n",
       "      <td>0</td>\n",
       "      <td>Technology: Antigen diagnostic kit for hepatit...</td>\n",
       "      <td>By DAVID FISHLOCK;  Financial Times, 24 Febru...</td>\n",
       "      <td>Biogen, the biotechnology research company, ex...</td>\n",
       "      <td>1982-02-24</td>\n",
       "      <td>DAVID FISHLOCK;</td>\n",
       "      <td>Financial Times</td>\n",
       "    </tr>\n",
       "    <tr>\n",
       "      <th>1</th>\n",
       "      <td>1</td>\n",
       "      <td>International Companies: Technology - Pounds 2...</td>\n",
       "      <td>By DAVID FISHLOCK, SCIENCE EDITOR;  Financial...</td>\n",
       "      <td>BRITAIN'S biotechnologists are to have a new P...</td>\n",
       "      <td>1983-02-11</td>\n",
       "      <td>DAVID FISHLOCK</td>\n",
       "      <td>Financial Times</td>\n",
       "    </tr>\n",
       "    <tr>\n",
       "      <th>2</th>\n",
       "      <td>2</td>\n",
       "      <td>Financial Times Survey: China - Business - Gro...</td>\n",
       "      <td>Financial Times, 29 October 1984, 1,411 words,...</td>\n",
       "      <td>CLIMATENorth China (including Beijing) - Winte...</td>\n",
       "      <td>1984-10-29</td>\n",
       "      <td>No author in byline</td>\n",
       "      <td>Financial Times</td>\n",
       "    </tr>\n",
       "    <tr>\n",
       "      <th>3</th>\n",
       "      <td>3</td>\n",
       "      <td>The human face of science / Profile of Dr June...</td>\n",
       "      <td>By THOMSON PRENTICE  The Times, 1 July 1985, ...</td>\n",
       "      <td>Dr. June Goodfield has great faith in people's...</td>\n",
       "      <td>1985-07-01</td>\n",
       "      <td>THOMSON PRENTICE</td>\n",
       "      <td>Times</td>\n",
       "    </tr>\n",
       "    <tr>\n",
       "      <th>4</th>\n",
       "      <td>4</td>\n",
       "      <td>Travel: How to stay healthy on your summer bre...</td>\n",
       "      <td>By ISABEL WALKER  The Times, 6 July 1985, 1,1...</td>\n",
       "      <td>Holidays are one of the 30 most stressful even...</td>\n",
       "      <td>1985-07-06</td>\n",
       "      <td>ISABEL WALKER</td>\n",
       "      <td>Times</td>\n",
       "    </tr>\n",
       "    <tr>\n",
       "      <th>...</th>\n",
       "      <td>...</td>\n",
       "      <td>...</td>\n",
       "      <td>...</td>\n",
       "      <td>...</td>\n",
       "      <td>...</td>\n",
       "      <td>...</td>\n",
       "      <td>...</td>\n",
       "    </tr>\n",
       "    <tr>\n",
       "      <th>9393</th>\n",
       "      <td>9393</td>\n",
       "      <td>Inside the Filipino jails struggling to contai...</td>\n",
       "      <td>By Sarah Newey, Global Health Security Corres...</td>\n",
       "      <td>As Covid showed, prisons can act as incubators...</td>\n",
       "      <td>2024-07-15</td>\n",
       "      <td>Sarah Newey</td>\n",
       "      <td>Telegraph Online</td>\n",
       "    </tr>\n",
       "    <tr>\n",
       "      <th>9398</th>\n",
       "      <td>9398</td>\n",
       "      <td>the a to z of summer heath hazards</td>\n",
       "      <td>Natasha Holt  The Daily Mirror, 16 July 2024,...</td>\n",
       "      <td>yourhealth@mirror.co.ukHEALTH H be your bestEd...</td>\n",
       "      <td>2024-07-16</td>\n",
       "      <td>Natasha Holt</td>\n",
       "      <td>Daily Mirror</td>\n",
       "    </tr>\n",
       "    <tr>\n",
       "      <th>9397</th>\n",
       "      <td>9397</td>\n",
       "      <td>THE A TO Z OF SUMMER HEATH HAZARDS</td>\n",
       "      <td>Natasha Holt  The Daily Mirror, 16 July 2024,...</td>\n",
       "      <td>yourHEALTH@mirror.co.ukHEALTH H be your bestEd...</td>\n",
       "      <td>2024-07-16</td>\n",
       "      <td>Natasha Holt</td>\n",
       "      <td>Daily Mirror</td>\n",
       "    </tr>\n",
       "    <tr>\n",
       "      <th>9396</th>\n",
       "      <td>9396</td>\n",
       "      <td>The A to Z of summer health hazards</td>\n",
       "      <td>Natasha Holt  The Daily Mirror, 16 July 2024,...</td>\n",
       "      <td>yourHEALTH@mirror.co.ukHEALTH H be your bestEd...</td>\n",
       "      <td>2024-07-16</td>\n",
       "      <td>Natasha Holt</td>\n",
       "      <td>Daily Mirror</td>\n",
       "    </tr>\n",
       "    <tr>\n",
       "      <th>9395</th>\n",
       "      <td>9395</td>\n",
       "      <td>The Atoz of sum health hazards</td>\n",
       "      <td>AMY PACKER  The Daily Express, 16 July 2024, ...</td>\n",
       "      <td>yourhealthNatasha Holt discovers the pitfalls ...</td>\n",
       "      <td>2024-07-16</td>\n",
       "      <td>AMY PACKER</td>\n",
       "      <td>Daily Express</td>\n",
       "    </tr>\n",
       "  </tbody>\n",
       "</table>\n",
       "<p>9446 rows × 7 columns</p>\n",
       "</div>"
      ],
      "text/plain": [
       "      Unnamed: 0                                              Title  \\\n",
       "0              0  Technology: Antigen diagnostic kit for hepatit...   \n",
       "1              1  International Companies: Technology - Pounds 2...   \n",
       "2              2  Financial Times Survey: China - Business - Gro...   \n",
       "3              3  The human face of science / Profile of Dr June...   \n",
       "4              4  Travel: How to stay healthy on your summer bre...   \n",
       "...          ...                                                ...   \n",
       "9393        9393  Inside the Filipino jails struggling to contai...   \n",
       "9398        9398                 the a to z of summer heath hazards   \n",
       "9397        9397                 THE A TO Z OF SUMMER HEATH HAZARDS   \n",
       "9396        9396                The A to Z of summer health hazards   \n",
       "9395        9395                     The Atoz of sum health hazards   \n",
       "\n",
       "                                                 Byline  \\\n",
       "0      By DAVID FISHLOCK;  Financial Times, 24 Febru...   \n",
       "1      By DAVID FISHLOCK, SCIENCE EDITOR;  Financial...   \n",
       "2     Financial Times, 29 October 1984, 1,411 words,...   \n",
       "3      By THOMSON PRENTICE  The Times, 1 July 1985, ...   \n",
       "4      By ISABEL WALKER  The Times, 6 July 1985, 1,1...   \n",
       "...                                                 ...   \n",
       "9393   By Sarah Newey, Global Health Security Corres...   \n",
       "9398   Natasha Holt  The Daily Mirror, 16 July 2024,...   \n",
       "9397   Natasha Holt  The Daily Mirror, 16 July 2024,...   \n",
       "9396   Natasha Holt  The Daily Mirror, 16 July 2024,...   \n",
       "9395   AMY PACKER  The Daily Express, 16 July 2024, ...   \n",
       "\n",
       "                                                   Text       date  \\\n",
       "0     Biogen, the biotechnology research company, ex... 1982-02-24   \n",
       "1     BRITAIN'S biotechnologists are to have a new P... 1983-02-11   \n",
       "2     CLIMATENorth China (including Beijing) - Winte... 1984-10-29   \n",
       "3     Dr. June Goodfield has great faith in people's... 1985-07-01   \n",
       "4     Holidays are one of the 30 most stressful even... 1985-07-06   \n",
       "...                                                 ...        ...   \n",
       "9393  As Covid showed, prisons can act as incubators... 2024-07-15   \n",
       "9398  yourhealth@mirror.co.ukHEALTH H be your bestEd... 2024-07-16   \n",
       "9397  yourHEALTH@mirror.co.ukHEALTH H be your bestEd... 2024-07-16   \n",
       "9396  yourHEALTH@mirror.co.ukHEALTH H be your bestEd... 2024-07-16   \n",
       "9395  yourhealthNatasha Holt discovers the pitfalls ... 2024-07-16   \n",
       "\n",
       "                   author         newspaper  \n",
       "0         DAVID FISHLOCK;   Financial Times  \n",
       "1          DAVID FISHLOCK   Financial Times  \n",
       "2     No author in byline   Financial Times  \n",
       "3        THOMSON PRENTICE             Times  \n",
       "4           ISABEL WALKER             Times  \n",
       "...                   ...               ...  \n",
       "9393          Sarah Newey  Telegraph Online  \n",
       "9398         Natasha Holt      Daily Mirror  \n",
       "9397         Natasha Holt      Daily Mirror  \n",
       "9396         Natasha Holt      Daily Mirror  \n",
       "9395           AMY PACKER     Daily Express  \n",
       "\n",
       "[9446 rows x 7 columns]"
      ]
     },
     "execution_count": 125,
     "metadata": {},
     "output_type": "execute_result"
    }
   ],
   "source": [
    "hepc"
   ]
  },
  {
   "cell_type": "code",
   "execution_count": 126,
   "metadata": {},
   "outputs": [],
   "source": [
    "hepc.to_csv(\"hepc_parsed_0801.csv\")"
   ]
  },
  {
   "cell_type": "markdown",
   "metadata": {},
   "source": [
    "# Sort out non-Hep C articles"
   ]
  },
  {
   "cell_type": "code",
   "execution_count": 1,
   "metadata": {},
   "outputs": [
    {
     "data": {
      "text/plain": [
       "9446"
      ]
     },
     "execution_count": 1,
     "metadata": {},
     "output_type": "execute_result"
    }
   ],
   "source": [
    "import pandas as pd\n",
    "\n",
    "hepc = pd.read_csv(\"hepc_parsed_0801.csv\")[['Title', 'date', 'author', 'newspaper', 'Text']]\n",
    "hepc['date'] = pd.to_datetime(hepc['date'])\n",
    "len(hepc)"
   ]
  },
  {
   "cell_type": "code",
   "execution_count": 35,
   "metadata": {},
   "outputs": [],
   "source": [
    "to_drop = hepc[hepc['Text'].str.contains('hepatitis A|hepatitis B', regex=True) & ~hepc['Text'].str.contains('hepatitis C', regex=False)]"
   ]
  },
  {
   "cell_type": "code",
   "execution_count": 39,
   "metadata": {},
   "outputs": [
    {
     "data": {
      "text/plain": [
       "1355"
      ]
     },
     "execution_count": 39,
     "metadata": {},
     "output_type": "execute_result"
    }
   ],
   "source": [
    "len(to_drop)"
   ]
  },
  {
   "cell_type": "code",
   "execution_count": 36,
   "metadata": {},
   "outputs": [
    {
     "data": {
      "text/plain": [
       "<Axes: xlabel='date', ylabel='Count'>"
      ]
     },
     "execution_count": 36,
     "metadata": {},
     "output_type": "execute_result"
    },
    {
     "data": {
      "image/png": "[encoded data removed]",
      "text/plain": [
       "<Figure size 2000x1000 with 1 Axes>"
      ]
     },
     "metadata": {},
     "output_type": "display_data"
    }
   ],
   "source": [
    "import matplotlib.pyplot as plt\n",
    "import seaborn as sns\n",
    "\n",
    "plt.figure(figsize=(20, 10))\n",
    "sns.histplot(to_drop['date'], bins=100)"
   ]
  },
  {
   "cell_type": "code",
   "execution_count": 42,
   "metadata": {},
   "outputs": [
    {
     "name": "stdout",
     "output_type": "stream",
     "text": [
      "(\"SCOTLAND'S police forces are demanding new powers that would allow them to \"\n",
      " 'store DNA samples from people who have not committed a crime.Chief '\n",
      " 'constables have written to the Scottish executive seeking permission to keep '\n",
      " 'genetic fingerprint evidence from those who have been arrested and released '\n",
      " 'without being charged with an offence.At present, DNA samples can be kept '\n",
      " 'only if a suspect is subsequently convicted in a Scottish court.Police also '\n",
      " 'want to keep DNA samples taken from serious juvenile offenders as young as '\n",
      " 'eight.Similar powers were granted to police forces south of the border last '\n",
      " 'year.The proposals have been criticised by civil liberties campaigners who '\n",
      " 'believe that they are an infringement of people\\'s rights. \"The state has '\n",
      " 'enough information on us already and the balance is correctly struck at the '\n",
      " 'moment,\" said John Scott, spokesman for the Scottish Human Rights '\n",
      " 'Centre.\"The police could make a wrongful arrest and that should not justify '\n",
      " 'the retention of samples taken from that person.\"The Association of Chief '\n",
      " 'Police Officers in Scotland (Acpos) has written to Cathy Jamieson, the '\n",
      " 'justice minister, urging her to include the measures in a new police bill. '\n",
      " 'The organisation believes that such a move would provide a powerful weapon '\n",
      " 'in the police\\'s armoury.\"What we must not forget is that for every crime '\n",
      " \"there's a victim. They have rights and they are entitled -in fact it is \"\n",
      " 'demanded of the police -to find out who was responsible and get them into '\n",
      " 'the justice system so they can be dealt with. In that respect, DNA is a '\n",
      " 'tremendous ally,\" said Ian Gordon, deputy chief constable of Tayside police '\n",
      " 'and the Acpos spokesman on DNA.About 20,000 profiles are destroyed each year '\n",
      " 'because there is no conviction, the suspect is disposed of outwith the court '\n",
      " \"or, in the case of young offenders, they are dealt with by the children's \"\n",
      " 'panel.A Scottish executive spokesman said: \"We are committed to helping '\n",
      " 'police in the fight against crime and ensuring they have the powers they '\n",
      " 'need to do the job effectively.\"Acpos has raised with us the issue of '\n",
      " 'retention of DNA samples as a potentially valuable tool in solving crimes '\n",
      " 'and catching criminals. We take the views of senior police officers very '\n",
      " 'seriously and are carefully considering all of the implications around the '\n",
      " 'issue.\"Meanwhile, suspected violent criminals are to be subjected to '\n",
      " 'compulsory blood tests under ministerial plans to protect Scottish police '\n",
      " 'from blood-borne viruses.About 150 officers are bitten or scratched every '\n",
      " 'year in attacks which leave them exposed to diseases including HIV and '\n",
      " 'hepatitis B and C.Officers can face a traumatic wait to find out if they '\n",
      " 'have been infected. In future, assailants will have a blood sample taken or '\n",
      " 'face a fine or prison sentence. The sample would be tested quickly for '\n",
      " 'evidence of dangerous infections.(C) Times Newspapers Ltd, 2005 ')\n"
     ]
    }
   ],
   "source": [
    "from pprint import pprint\n",
    "\n",
    "pprint(to_drop.sample(1).Text.values[0])"
   ]
  },
  {
   "cell_type": "code",
   "execution_count": 43,
   "metadata": {},
   "outputs": [],
   "source": [
    "hepc_new = hepc.drop(to_drop.index)"
   ]
  },
  {
   "cell_type": "code",
   "execution_count": 45,
   "metadata": {},
   "outputs": [],
   "source": [
    "hepc_new = hepc_new.reset_index(drop=True)"
   ]
  },
  {
   "cell_type": "code",
   "execution_count": 46,
   "metadata": {},
   "outputs": [
    {
     "data": {
      "text/html": [
       "<div>\n",
       "<style scoped>\n",
       "    .dataframe tbody tr th:only-of-type {\n",
       "        vertical-align: middle;\n",
       "    }\n",
       "\n",
       "    .dataframe tbody tr th {\n",
       "        vertical-align: top;\n",
       "    }\n",
       "\n",
       "    .dataframe thead th {\n",
       "        text-align: right;\n",
       "    }\n",
       "</style>\n",
       "<table border=\"1\" class=\"dataframe\">\n",
       "  <thead>\n",
       "    <tr style=\"text-align: right;\">\n",
       "      <th></th>\n",
       "      <th>Title</th>\n",
       "      <th>date</th>\n",
       "      <th>author</th>\n",
       "      <th>newspaper</th>\n",
       "      <th>Text</th>\n",
       "    </tr>\n",
       "  </thead>\n",
       "  <tbody>\n",
       "    <tr>\n",
       "      <th>0</th>\n",
       "      <td>International Companies: Technology - Pounds 2...</td>\n",
       "      <td>1983-02-11</td>\n",
       "      <td>DAVID FISHLOCK</td>\n",
       "      <td>Financial Times</td>\n",
       "      <td>BRITAIN'S biotechnologists are to have a new P...</td>\n",
       "    </tr>\n",
       "    <tr>\n",
       "      <th>1</th>\n",
       "      <td>Financial Times Survey: China - Business - Gro...</td>\n",
       "      <td>1984-10-29</td>\n",
       "      <td>No author in byline</td>\n",
       "      <td>Financial Times</td>\n",
       "      <td>CLIMATENorth China (including Beijing) - Winte...</td>\n",
       "    </tr>\n",
       "    <tr>\n",
       "      <th>2</th>\n",
       "      <td>Travel: How to stay healthy on your summer bre...</td>\n",
       "      <td>1985-07-06</td>\n",
       "      <td>ISABEL WALKER</td>\n",
       "      <td>Times</td>\n",
       "      <td>Holidays are one of the 30 most stressful even...</td>\n",
       "    </tr>\n",
       "    <tr>\n",
       "      <th>3</th>\n",
       "      <td>Family Money: Taking the sting from jabs / Ino...</td>\n",
       "      <td>1985-08-03</td>\n",
       "      <td>VIVIEN GOLDSMITH</td>\n",
       "      <td>Times</td>\n",
       "      <td>The series of jabs you will need if you are of...</td>\n",
       "    </tr>\n",
       "    <tr>\n",
       "      <th>4</th>\n",
       "      <td>A BREAKDOWN OF THE BREAKDOWNS (732)</td>\n",
       "      <td>1985-08-14</td>\n",
       "      <td>JOHN GOODBODY</td>\n",
       "      <td>Times</td>\n",
       "      <td>Steve Cram1981Has a winter of injuries.August:...</td>\n",
       "    </tr>\n",
       "    <tr>\n",
       "      <th>...</th>\n",
       "      <td>...</td>\n",
       "      <td>...</td>\n",
       "      <td>...</td>\n",
       "      <td>...</td>\n",
       "      <td>...</td>\n",
       "    </tr>\n",
       "    <tr>\n",
       "      <th>8086</th>\n",
       "      <td>RISK ASSESS Almost HALF of all cancer cases ar...</td>\n",
       "      <td>2024-07-11</td>\n",
       "      <td>Alice Fuller</td>\n",
       "      <td>thesun.co.uk</td>\n",
       "      <td>Plus, the most common types of the disease by ...</td>\n",
       "    </tr>\n",
       "    <tr>\n",
       "      <th>8087</th>\n",
       "      <td>FRESH HOPE Iconic British high street chain co...</td>\n",
       "      <td>2024-07-11</td>\n",
       "      <td>Juliana Cruz Lima</td>\n",
       "      <td>thesun.co.uk</td>\n",
       "      <td>Over 100 stores remain at risk unless a buyer ...</td>\n",
       "    </tr>\n",
       "    <tr>\n",
       "      <th>8088</th>\n",
       "      <td>Bill Gates: If you don’t like what I’m doing, ...</td>\n",
       "      <td>2024-07-12</td>\n",
       "      <td>No author in byline</td>\n",
       "      <td>thetimes.co.uk</td>\n",
       "      <td>The Microsoft founder’s message to his critics...</td>\n",
       "    </tr>\n",
       "    <tr>\n",
       "      <th>8089</th>\n",
       "      <td>Gangsters muscle in on Scotland’s beauty industry</td>\n",
       "      <td>2024-07-14</td>\n",
       "      <td>David Leask</td>\n",
       "      <td>thetimes.co.uk</td>\n",
       "      <td>The lack of regulation surrounding cosmetic in...</td>\n",
       "    </tr>\n",
       "    <tr>\n",
       "      <th>8090</th>\n",
       "      <td>Inside the Filipino jails struggling to contai...</td>\n",
       "      <td>2024-07-15</td>\n",
       "      <td>Sarah Newey</td>\n",
       "      <td>Telegraph Online</td>\n",
       "      <td>As Covid showed, prisons can act as incubators...</td>\n",
       "    </tr>\n",
       "  </tbody>\n",
       "</table>\n",
       "<p>8091 rows × 5 columns</p>\n",
       "</div>"
      ],
      "text/plain": [
       "                                                  Title       date  \\\n",
       "0     International Companies: Technology - Pounds 2... 1983-02-11   \n",
       "1     Financial Times Survey: China - Business - Gro... 1984-10-29   \n",
       "2     Travel: How to stay healthy on your summer bre... 1985-07-06   \n",
       "3     Family Money: Taking the sting from jabs / Ino... 1985-08-03   \n",
       "4                   A BREAKDOWN OF THE BREAKDOWNS (732) 1985-08-14   \n",
       "...                                                 ...        ...   \n",
       "8086  RISK ASSESS Almost HALF of all cancer cases ar... 2024-07-11   \n",
       "8087  FRESH HOPE Iconic British high street chain co... 2024-07-11   \n",
       "8088  Bill Gates: If you don’t like what I’m doing, ... 2024-07-12   \n",
       "8089  Gangsters muscle in on Scotland’s beauty industry 2024-07-14   \n",
       "8090  Inside the Filipino jails struggling to contai... 2024-07-15   \n",
       "\n",
       "                   author         newspaper  \\\n",
       "0          DAVID FISHLOCK   Financial Times   \n",
       "1     No author in byline   Financial Times   \n",
       "2           ISABEL WALKER             Times   \n",
       "3        VIVIEN GOLDSMITH             Times   \n",
       "4           JOHN GOODBODY             Times   \n",
       "...                   ...               ...   \n",
       "8086         Alice Fuller      thesun.co.uk   \n",
       "8087    Juliana Cruz Lima      thesun.co.uk   \n",
       "8088  No author in byline    thetimes.co.uk   \n",
       "8089          David Leask    thetimes.co.uk   \n",
       "8090          Sarah Newey  Telegraph Online   \n",
       "\n",
       "                                                   Text  \n",
       "0     BRITAIN'S biotechnologists are to have a new P...  \n",
       "1     CLIMATENorth China (including Beijing) - Winte...  \n",
       "2     Holidays are one of the 30 most stressful even...  \n",
       "3     The series of jabs you will need if you are of...  \n",
       "4     Steve Cram1981Has a winter of injuries.August:...  \n",
       "...                                                 ...  \n",
       "8086  Plus, the most common types of the disease by ...  \n",
       "8087  Over 100 stores remain at risk unless a buyer ...  \n",
       "8088  The Microsoft founder’s message to his critics...  \n",
       "8089  The lack of regulation surrounding cosmetic in...  \n",
       "8090  As Covid showed, prisons can act as incubators...  \n",
       "\n",
       "[8091 rows x 5 columns]"
      ]
     },
     "execution_count": 46,
     "metadata": {},
     "output_type": "execute_result"
    }
   ],
   "source": [
    "hepc_new"
   ]
  },
  {
   "cell_type": "code",
   "execution_count": 47,
   "metadata": {},
   "outputs": [],
   "source": [
    "hepc_new.to_csv(\"hepc_parsed_0826.csv\")"
   ]
  },
  {
   "cell_type": "markdown",
   "metadata": {},
   "source": [
    "# New query for NANBHep"
   ]
  },
  {
   "cell_type": "code",
   "execution_count": 1,
   "metadata": {},
   "outputs": [],
   "source": [
    "from selenium import webdriver\n",
    "from selenium.webdriver.common.by import By\n",
    "from selenium.webdriver.support.ui import WebDriverWait\n",
    "from selenium.webdriver.support import expected_conditions as EC\n",
    "from selenium.common.exceptions import StaleElementReferenceException, TimeoutException\n",
    "from bs4 import BeautifulSoup\n",
    "import time\n",
    "import pandas as pd"
   ]
  },
  {
   "cell_type": "code",
   "execution_count": 2,
   "metadata": {},
   "outputs": [],
   "source": [
    "wd = webdriver.Chrome()\n",
    "wd.get('http://www.library.tufts.edu/ezproxy/ezproxy.asp?LOCATION=RsrcRcrdFactiva')\n",
    "\n",
    "switch_factiva = WebDriverWait(wd, 10).until(\n",
    "    EC.presence_of_element_located((By.CLASS_NAME, 'nf-toggle-switch'))\n",
    ")\n",
    "switch_factiva.click()\n",
    "\n",
    "query = \"\"\"\n",
    "(\"Non A Non B\" or \"Non-A Non-B\" or \"NonANonB\" or \"NANBH\" or \"non A-non B\" or ((\"new strain\" or \"rare form\" or \"new type\" or \"recently discovered type\" or \"third variant\" or \"another form\") and \"hepatitis\")) and (rst=st or rst=sundti or rst=t or rst=timeuk or rst=dt or rst=stel or rst=TELUK or rst=ob or rst=IND or rst=INDOP or rst=INDOS or rst=IIND or rst=grdn or rst=GRULTD or rst=ftft or rst=ftcom or rst=thesun or rst=thesuk or rst=daim or rst=mosm or rst=damonl or rst=theexp or rst=thexsu or rst=exco or rst=dmirr or rst=smirr or rst=miruk or rst=POPL or rst=daista or rst=dsun or rst=daico or rst=ns or rst=nsonl or rst=metro)\n",
    "\"\"\".strip()\n",
    "search_bar = WebDriverWait(wd, 10).until(\n",
    "    EC.presence_of_element_located((By.CLASS_NAME, \"css-wiv1jh\"))\n",
    ")\n",
    "search_bar.send_keys(query + '\\n')"
   ]
  },
  {
   "cell_type": "code",
   "execution_count": 3,
   "metadata": {},
   "outputs": [],
   "source": [
    "dropdowns = WebDriverWait(wd, 10).until(\n",
    "    EC.presence_of_all_elements_located((By.CLASS_NAME, 'css-4r1vsy'))\n",
    ")"
   ]
  },
  {
   "cell_type": "code",
   "execution_count": 4,
   "metadata": {},
   "outputs": [],
   "source": [
    "dropdowns[-1].click()  "
   ]
  },
  {
   "cell_type": "code",
   "execution_count": 5,
   "metadata": {},
   "outputs": [],
   "source": [
    "date_options = WebDriverWait(wd, 10).until(\n",
    "    EC.presence_of_all_elements_located((By.CLASS_NAME, 'css-1ttu9ot'))\n",
    ")"
   ]
  },
  {
   "cell_type": "code",
   "execution_count": 6,
   "metadata": {},
   "outputs": [],
   "source": [
    "date_options[-2].click()"
   ]
  },
  {
   "cell_type": "code",
   "execution_count": 7,
   "metadata": {},
   "outputs": [],
   "source": [
    "dropdowns[0].click()"
   ]
  },
  {
   "cell_type": "code",
   "execution_count": 8,
   "metadata": {},
   "outputs": [],
   "source": [
    "order_options = WebDriverWait(wd, 10).until(\n",
    "    EC.presence_of_all_elements_located((By.CLASS_NAME, 'css-1ttu9ot'))\n",
    ")[-1]"
   ]
  },
  {
   "cell_type": "code",
   "execution_count": 9,
   "metadata": {},
   "outputs": [],
   "source": [
    "order_options.click()"
   ]
  },
  {
   "cell_type": "markdown",
   "metadata": {},
   "source": [
    "## Post proc"
   ]
  },
  {
   "cell_type": "code",
   "execution_count": 1,
   "metadata": {},
   "outputs": [],
   "source": [
    "def get_author_name(x):\n",
    "    x_split = x.split(',')\n",
    "    for s in x_split:\n",
    "        if ('By' in s):\n",
    "            name_newspaper = s.split('By')[1].strip()\n",
    "            if '  ' in name_newspaper:\n",
    "                return name_newspaper.split('  ')[0]\n",
    "            else:\n",
    "                return name_newspaper\n",
    "        elif ('BY' in s):\n",
    "            name_newspaper = s.split('BY')[1].strip()\n",
    "            if '  ' in name_newspaper:\n",
    "                return name_newspaper.split('  ')[0]\n",
    "            else:\n",
    "                return name_newspaper\n",
    "        else:\n",
    "            if '  ' in s:\n",
    "                return s.split('  ')[0].strip()\n",
    "            else:\n",
    "                return 'No author in byline'"
   ]
  },
  {
   "cell_type": "code",
   "execution_count": 2,
   "metadata": {},
   "outputs": [],
   "source": [
    "uk_papers = [\n",
    "    \"Sunday Times\",\n",
    "    \"Times\",\n",
    "    \"Daily Telegraph\",\n",
    "    \"Observer\",\n",
    "    \"Independent\",\n",
    "    \"Guardian\",\n",
    "    \"Financial Times\",\n",
    "    \"Sun\",\n",
    "    \"Daily Mail\",\n",
    "    \"Daily Express\",\n",
    "    \"Daily Mirror\",\n",
    "    \"Sunday People\",\n",
    "    \"Daily Star\",\n",
    "    \"Evening Standard\",\n",
    "    \"Metro\",\n",
    "    \"Mail on Sunday\",\n",
    "    \"Sunday Mirror\",\n",
    "    \"Express on Sunday\",\n",
    "    \"Sunday Telegraph\",\n",
    "    \"Sunday Express\",\n",
    "    \"thesun.co.uk\",\n",
    "    \"Mail Online\",\n",
    "    \"Telegraph Online\",\n",
    "    \"Mirror.co.uk\",\n",
    "    \"thetimes.co.uk\",\n",
    "    \"dailystar.co.uk\"\n",
    "]\n",
    "\n",
    "def get_paper(x):\n",
    "    if any([p in x for p in uk_papers]):\n",
    "        newspaper = re.search(r'\\b(?:{})\\b'.format('|'.join(uk_papers)), x)\n",
    "        if newspaper:\n",
    "            return newspaper.group(0)\n",
    "        else:\n",
    "            return 'No UK newspaper found'"
   ]
  },
  {
   "cell_type": "code",
   "execution_count": 4,
   "metadata": {},
   "outputs": [],
   "source": [
    "import pandas as pd\n",
    "hepnanb = pd.read_csv('hepatitis_nanb_articles.csv')"
   ]
  },
  {
   "cell_type": "code",
   "execution_count": 7,
   "metadata": {},
   "outputs": [],
   "source": [
    "import re\n",
    "hepnanb['date'] = hepnanb.apply(lambda x: re.search(r'\\d{1,2}\\s+\\w+\\s+\\d{4}', x['Byline']).group(0), axis=1)\n",
    "hepnanb['date'] = pd.to_datetime(hepnanb['date'], format='%d %B %Y')\n",
    "hepnanb = hepnanb.sort_values(by='date')"
   ]
  },
  {
   "cell_type": "code",
   "execution_count": 9,
   "metadata": {},
   "outputs": [],
   "source": [
    "hepnanb['author'] = hepnanb.Byline.apply(get_author_name)\n",
    "hepnanb['newspaper'] = hepnanb.Byline.apply(get_paper)"
   ]
  },
  {
   "cell_type": "code",
   "execution_count": 12,
   "metadata": {},
   "outputs": [
    {
     "data": {
      "text/html": [
       "<div>\n",
       "<style scoped>\n",
       "    .dataframe tbody tr th:only-of-type {\n",
       "        vertical-align: middle;\n",
       "    }\n",
       "\n",
       "    .dataframe tbody tr th {\n",
       "        vertical-align: top;\n",
       "    }\n",
       "\n",
       "    .dataframe thead th {\n",
       "        text-align: right;\n",
       "    }\n",
       "</style>\n",
       "<table border=\"1\" class=\"dataframe\">\n",
       "  <thead>\n",
       "    <tr style=\"text-align: right;\">\n",
       "      <th></th>\n",
       "      <th>Title</th>\n",
       "      <th>Byline</th>\n",
       "      <th>Text</th>\n",
       "      <th>date</th>\n",
       "      <th>author</th>\n",
       "      <th>newspaper</th>\n",
       "    </tr>\n",
       "  </thead>\n",
       "  <tbody>\n",
       "    <tr>\n",
       "      <th>0</th>\n",
       "      <td>Special Report on Public Health (8): The battl...</td>\n",
       "      <td>By PHILIPPA TOOMEY  The Times, 11 December 19...</td>\n",
       "      <td>Lassa fever is the great frightener but, as Dr...</td>\n",
       "      <td>1985-12-11</td>\n",
       "      <td>PHILIPPA TOOMEY</td>\n",
       "      <td>Times</td>\n",
       "    </tr>\n",
       "    <tr>\n",
       "      <th>1</th>\n",
       "      <td>\\nThe Department of Health has approved the ma...</td>\n",
       "      <td>The Evening Standard, 26 March 1986, 47 words,...</td>\n",
       "      <td>\\nWellferon is based on interferon. It is now ...</td>\n",
       "      <td>1986-03-26</td>\n",
       "      <td>No author in byline</td>\n",
       "      <td>Evening Standard</td>\n",
       "    </tr>\n",
       "    <tr>\n",
       "      <th>2</th>\n",
       "      <td>'Donate blood before surgery' (180)</td>\n",
       "      <td>By PEARCE WRIGHT, Science Editor  The Times, ...</td>\n",
       "      <td>Patients waiting for an operation should bank ...</td>\n",
       "      <td>1987-01-16</td>\n",
       "      <td>PEARCE WRIGHT</td>\n",
       "      <td>Times</td>\n",
       "    </tr>\n",
       "    <tr>\n",
       "      <th>3</th>\n",
       "      <td>Sport: The high, reckless price of being a sup...</td>\n",
       "      <td>By ROB HUGHES  The Sunday Times, 7 June 1987,...</td>\n",
       "      <td>ASK Steve Ovett whether he enjoys the supreme ...</td>\n",
       "      <td>1987-06-07</td>\n",
       "      <td>ROB HUGHES</td>\n",
       "      <td>Sunday Times</td>\n",
       "    </tr>\n",
       "    <tr>\n",
       "      <th>4</th>\n",
       "      <td>Health (Medical Briefing): Hepatitis hazard (535)</td>\n",
       "      <td>By Dr THOMAS STUTTAFORD  The Times, 5 May 198...</td>\n",
       "      <td>Reports of Russell Harty's acute liver failure...</td>\n",
       "      <td>1988-05-05</td>\n",
       "      <td>Dr THOMAS STUTTAFORD</td>\n",
       "      <td>Times</td>\n",
       "    </tr>\n",
       "    <tr>\n",
       "      <th>...</th>\n",
       "      <td>...</td>\n",
       "      <td>...</td>\n",
       "      <td>...</td>\n",
       "      <td>...</td>\n",
       "      <td>...</td>\n",
       "      <td>...</td>\n",
       "    </tr>\n",
       "    <tr>\n",
       "      <th>379</th>\n",
       "      <td>What is the UK’s infected blood scandal?</td>\n",
       "      <td>Jamie Grierson  The Guardian, 20 May 2024, 5:...</td>\n",
       "      <td>More than 3,000 people died and many others we...</td>\n",
       "      <td>2024-05-20</td>\n",
       "      <td>Jamie Grierson</td>\n",
       "      <td>Guardian</td>\n",
       "    </tr>\n",
       "    <tr>\n",
       "      <th>371</th>\n",
       "      <td>Urgent warning over rare cancer rise with fear...</td>\n",
       "      <td>Richard Ashmore  express.co.uk, 9 June 2024, ...</td>\n",
       "      <td>Experts have seen an increase in certain kinds...</td>\n",
       "      <td>2024-06-09</td>\n",
       "      <td>Richard Ashmore</td>\n",
       "      <td>None</td>\n",
       "    </tr>\n",
       "    <tr>\n",
       "      <th>382</th>\n",
       "      <td>History's most evil experiments: From Josef Me...</td>\n",
       "      <td>Chris Jewers  Mail Online, 7 July 2024, 2:53 ...</td>\n",
       "      <td>* WARNING: Contains graphic images and descrip...</td>\n",
       "      <td>2024-07-07</td>\n",
       "      <td>Chris Jewers</td>\n",
       "      <td>Mail Online</td>\n",
       "    </tr>\n",
       "    <tr>\n",
       "      <th>373</th>\n",
       "      <td>Mpox virus - updates: WHO declares outbreak a ...</td>\n",
       "      <td>Salma Ouaguira  Independent Online, 20 August...</td>\n",
       "      <td>Health ministers are on high alert for UK case...</td>\n",
       "      <td>2024-08-20</td>\n",
       "      <td>Salma Ouaguira</td>\n",
       "      <td>Independent</td>\n",
       "    </tr>\n",
       "    <tr>\n",
       "      <th>374</th>\n",
       "      <td>Mpox virus - updates: WHO declares outbreak a ...</td>\n",
       "      <td>Salma Ouaguira  Independent Online, 21 August...</td>\n",
       "      <td>Health ministers are on high alert for UK case...</td>\n",
       "      <td>2024-08-21</td>\n",
       "      <td>Salma Ouaguira</td>\n",
       "      <td>Independent</td>\n",
       "    </tr>\n",
       "  </tbody>\n",
       "</table>\n",
       "<p>298 rows × 6 columns</p>\n",
       "</div>"
      ],
      "text/plain": [
       "                                                 Title  \\\n",
       "0    Special Report on Public Health (8): The battl...   \n",
       "1    \\nThe Department of Health has approved the ma...   \n",
       "2                  'Donate blood before surgery' (180)   \n",
       "3    Sport: The high, reckless price of being a sup...   \n",
       "4    Health (Medical Briefing): Hepatitis hazard (535)   \n",
       "..                                                 ...   \n",
       "379           What is the UK’s infected blood scandal?   \n",
       "371  Urgent warning over rare cancer rise with fear...   \n",
       "382  History's most evil experiments: From Josef Me...   \n",
       "373  Mpox virus - updates: WHO declares outbreak a ...   \n",
       "374  Mpox virus - updates: WHO declares outbreak a ...   \n",
       "\n",
       "                                                Byline  \\\n",
       "0     By PHILIPPA TOOMEY  The Times, 11 December 19...   \n",
       "1    The Evening Standard, 26 March 1986, 47 words,...   \n",
       "2     By PEARCE WRIGHT, Science Editor  The Times, ...   \n",
       "3     By ROB HUGHES  The Sunday Times, 7 June 1987,...   \n",
       "4     By Dr THOMAS STUTTAFORD  The Times, 5 May 198...   \n",
       "..                                                 ...   \n",
       "379   Jamie Grierson  The Guardian, 20 May 2024, 5:...   \n",
       "371   Richard Ashmore  express.co.uk, 9 June 2024, ...   \n",
       "382   Chris Jewers  Mail Online, 7 July 2024, 2:53 ...   \n",
       "373   Salma Ouaguira  Independent Online, 20 August...   \n",
       "374   Salma Ouaguira  Independent Online, 21 August...   \n",
       "\n",
       "                                                  Text       date  \\\n",
       "0    Lassa fever is the great frightener but, as Dr... 1985-12-11   \n",
       "1    \\nWellferon is based on interferon. It is now ... 1986-03-26   \n",
       "2    Patients waiting for an operation should bank ... 1987-01-16   \n",
       "3    ASK Steve Ovett whether he enjoys the supreme ... 1987-06-07   \n",
       "4    Reports of Russell Harty's acute liver failure... 1988-05-05   \n",
       "..                                                 ...        ...   \n",
       "379  More than 3,000 people died and many others we... 2024-05-20   \n",
       "371  Experts have seen an increase in certain kinds... 2024-06-09   \n",
       "382  * WARNING: Contains graphic images and descrip... 2024-07-07   \n",
       "373  Health ministers are on high alert for UK case... 2024-08-20   \n",
       "374  Health ministers are on high alert for UK case... 2024-08-21   \n",
       "\n",
       "                   author         newspaper  \n",
       "0         PHILIPPA TOOMEY             Times  \n",
       "1     No author in byline  Evening Standard  \n",
       "2           PEARCE WRIGHT             Times  \n",
       "3              ROB HUGHES      Sunday Times  \n",
       "4    Dr THOMAS STUTTAFORD             Times  \n",
       "..                    ...               ...  \n",
       "379        Jamie Grierson          Guardian  \n",
       "371       Richard Ashmore              None  \n",
       "382          Chris Jewers       Mail Online  \n",
       "373        Salma Ouaguira       Independent  \n",
       "374        Salma Ouaguira       Independent  \n",
       "\n",
       "[298 rows x 6 columns]"
      ]
     },
     "execution_count": 12,
     "metadata": {},
     "output_type": "execute_result"
    }
   ],
   "source": [
    "hepnanb = hepnanb.drop_duplicates()\n",
    "hepnanb"
   ]
  },
  {
   "cell_type": "code",
   "execution_count": 14,
   "metadata": {},
   "outputs": [],
   "source": [
    "hepnanb = hepnanb[~hepnanb['Text'].str.contains('mpox')]"
   ]
  },
  {
   "cell_type": "code",
   "execution_count": 15,
   "metadata": {},
   "outputs": [],
   "source": [
    "hepnanb.to_csv(\"hepnanb_parsed_0904.csv\")"
   ]
  },
  {
   "cell_type": "code",
   "execution_count": null,
   "metadata": {},
   "outputs": [],
   "source": []
  }
 ],
 "metadata": {
  "kernelspec": {
   "display_name": "data_collection",
   "language": "python",
   "name": "python3"
  },
  "language_info": {
   "codemirror_mode": {
    "name": "ipython",
    "version": 3
   },
   "file_extension": ".py",
   "mimetype": "text/x-python",
   "name": "python",
   "nbconvert_exporter": "python",
   "pygments_lexer": "ipython3",
   "version": "3.11.9"
  }
 },
 "nbformat": 4,
 "nbformat_minor": 2
}
