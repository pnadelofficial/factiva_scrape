{
 "cells": [
  {
   "cell_type": "markdown",
   "metadata": {},
   "source": [
    "# post refactor"
   ]
  },
  {
   "cell_type": "code",
   "execution_count": 1,
   "metadata": {},
   "outputs": [],
   "source": [
    "from factiva_scraper import Scraper\n",
    "import getpass\n",
    "\n",
    "username = input(\"Enter your username: \")\n",
    "password = getpass.getpass()\n",
    "query = '(\"drought\" or \"dry spell\") and (rst=MEWNAB)'"
   ]
  },
  {
   "cell_type": "code",
   "execution_count": 2,
   "metadata": {},
   "outputs": [],
   "source": [
    "scraper = Scraper(username, password, query)"
   ]
  },
  {
   "cell_type": "code",
   "execution_count": 3,
   "metadata": {},
   "outputs": [
    {
     "name": "stdout",
     "output_type": "stream",
     "text": [
      "Input query\n",
      "Changed filters\n",
      "Searching for (\"drought\" or \"dry spell\") and (rst=MEWNAB)...\n",
      "Page 1/94 complete, Date: 24 February 2025, Articles collected: 20, Percent complete: 1.06%\n",
      "Page 2/94 complete, Date: 22 May 2024, Articles collected: 40, Percent complete: 2.06%\n",
      "Page 3/94 complete, Date: 8 September 2023, Articles collected: 60, Percent complete: 3.06%\n",
      "Page 4/94 complete, Date: 18 April 2017, Articles collected: 80, Percent complete: 4.06%\n",
      "Page 5/94 complete, Date: 15 January 2023, Articles collected: 100, Percent complete: 5.06%\n",
      "Page 6/94 complete, Date: 21 May 2024, Articles collected: 120, Percent complete: 6.06%\n",
      "Page 7/94 complete, Date: 10 July 2024, Articles collected: 140, Percent complete: 7.06%\n",
      "Page 8/94 complete, Date: 10 May 2019, Articles collected: 160, Percent complete: 8.06%\n",
      "Page 9/94 complete, Date: 17 May 2019, Articles collected: 180, Percent complete: 9.06%\n",
      "Page 10/94 complete, Date: 21 June 2019, Articles collected: 200, Percent complete: 10.06%\n",
      "Page 11/94 complete, Date: 12 July 2021, Articles collected: 220, Percent complete: 11.06%\n"
     ]
    },
    {
     "ename": "KeyboardInterrupt",
     "evalue": "",
     "output_type": "error",
     "traceback": [
      "\u001b[0;31m---------------------------------------------------------------------------\u001b[0m",
      "\u001b[0;31mKeyboardInterrupt\u001b[0m                         Traceback (most recent call last)",
      "Cell \u001b[0;32mIn[3], line 1\u001b[0m\n\u001b[0;32m----> 1\u001b[0m \u001b[43mscraper\u001b[49m\u001b[38;5;241;43m.\u001b[39;49m\u001b[43mscrape\u001b[49m\u001b[43m(\u001b[49m\u001b[43m)\u001b[49m\n",
      "File \u001b[0;32m~/Desktop/factiva_scrape/factiva_scraper.py:259\u001b[0m, in \u001b[0;36mScraper.scrape\u001b[0;34m(self, filename)\u001b[0m\n\u001b[1;32m    256\u001b[0m     \u001b[38;5;28mself\u001b[39m\u001b[38;5;241m.\u001b[39m_recover()\n\u001b[1;32m    257\u001b[0m     \u001b[38;5;28mprint\u001b[39m(\u001b[38;5;124m\"\u001b[39m\u001b[38;5;124mRecovered from last save\u001b[39m\u001b[38;5;124m\"\u001b[39m)\n\u001b[0;32m--> 259\u001b[0m \u001b[38;5;28;43mself\u001b[39;49m\u001b[38;5;241;43m.\u001b[39;49m\u001b[43m_parse_results\u001b[49m\u001b[43m(\u001b[49m\u001b[43msave_every\u001b[49m\u001b[38;5;241;43m=\u001b[39;49m\u001b[38;5;28;43mself\u001b[39;49m\u001b[38;5;241;43m.\u001b[39;49m\u001b[43msave_every\u001b[49m\u001b[43m)\u001b[49m\n\u001b[1;32m    260\u001b[0m \u001b[38;5;28mprint\u001b[39m(\u001b[38;5;124m\"\u001b[39m\u001b[38;5;124mParsed results\u001b[39m\u001b[38;5;124m\"\u001b[39m)\n\u001b[1;32m    262\u001b[0m \u001b[38;5;28mself\u001b[39m\u001b[38;5;241m.\u001b[39m_save(\u001b[38;5;28mself\u001b[39m\u001b[38;5;241m.\u001b[39mdata, filename)\n",
      "File \u001b[0;32m~/Desktop/factiva_scrape/factiva_scraper.py:204\u001b[0m, in \u001b[0;36mScraper._parse_results\u001b[0;34m(self, save_every)\u001b[0m\n\u001b[1;32m    200\u001b[0m     back_button \u001b[38;5;241m=\u001b[39m WebDriverWait(\u001b[38;5;28mself\u001b[39m\u001b[38;5;241m.\u001b[39mwd, \u001b[38;5;28mself\u001b[39m\u001b[38;5;241m.\u001b[39mtimeout)\u001b[38;5;241m.\u001b[39muntil(\n\u001b[1;32m    201\u001b[0m         EC\u001b[38;5;241m.\u001b[39mpresence_of_element_located((By\u001b[38;5;241m.\u001b[39mID, \u001b[38;5;124m'\u001b[39m\u001b[38;5;124marticleBackButton\u001b[39m\u001b[38;5;124m'\u001b[39m))\n\u001b[1;32m    202\u001b[0m     )\n\u001b[1;32m    203\u001b[0m     back_button\u001b[38;5;241m.\u001b[39mclick()\n\u001b[0;32m--> 204\u001b[0m     time\u001b[38;5;241m.\u001b[39msleep(\u001b[38;5;241m2\u001b[39m)\n\u001b[1;32m    205\u001b[0m     page_results \u001b[38;5;241m=\u001b[39m WebDriverWait(\u001b[38;5;28mself\u001b[39m\u001b[38;5;241m.\u001b[39mwd, \u001b[38;5;28mself\u001b[39m\u001b[38;5;241m.\u001b[39mtimeout)\u001b[38;5;241m.\u001b[39muntil(\n\u001b[1;32m    206\u001b[0m         EC\u001b[38;5;241m.\u001b[39mpresence_of_all_elements_located((By\u001b[38;5;241m.\u001b[39mCLASS_NAME, \u001b[38;5;124m'\u001b[39m\u001b[38;5;124mcss-p43ypb\u001b[39m\u001b[38;5;124m'\u001b[39m))\n\u001b[1;32m    207\u001b[0m     )\n\u001b[1;32m    208\u001b[0m \u001b[38;5;28mself\u001b[39m\u001b[38;5;241m.\u001b[39mwd\u001b[38;5;241m.\u001b[39mexecute_script(\u001b[38;5;124m\"\u001b[39m\u001b[38;5;124mwindow.scrollTo(0, document.body.scrollHeight);\u001b[39m\u001b[38;5;124m\"\u001b[39m)\n",
      "\u001b[0;31mKeyboardInterrupt\u001b[0m: "
     ]
    }
   ],
   "source": [
    "scraper.scrape()"
   ]
  }
 ],
 "metadata": {
  "kernelspec": {
   "display_name": "data_collection",
   "language": "python",
   "name": "python3"
  },
  "language_info": {
   "codemirror_mode": {
    "name": "ipython",
    "version": 3
   },
   "file_extension": ".py",
   "mimetype": "text/x-python",
   "name": "python",
   "nbconvert_exporter": "python",
   "pygments_lexer": "ipython3",
   "version": "3.11.9"
  }
 },
 "nbformat": 4,
 "nbformat_minor": 2
}
